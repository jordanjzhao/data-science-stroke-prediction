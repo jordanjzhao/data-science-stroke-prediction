{
 "cells": [
  {
   "cell_type": "markdown",
   "metadata": {},
   "source": [
    "# Classification Analysis of Patient Parameters on Stroke Predictions"
   ]
  },
  {
   "cell_type": "code",
   "execution_count": null,
   "metadata": {},
   "outputs": [
    {
     "name": "stderr",
     "output_type": "stream",
     "text": [
      "── \u001b[1mAttaching packages\u001b[22m ─────────────────────────────────────── tidyverse 1.3.0 ──\n",
      "\n",
      "\u001b[32m✔\u001b[39m \u001b[34mggplot2\u001b[39m 3.3.2     \u001b[32m✔\u001b[39m \u001b[34mpurrr  \u001b[39m 0.3.4\n",
      "\u001b[32m✔\u001b[39m \u001b[34mtibble \u001b[39m 3.0.3     \u001b[32m✔\u001b[39m \u001b[34mdplyr  \u001b[39m 1.0.2\n",
      "\u001b[32m✔\u001b[39m \u001b[34mtidyr  \u001b[39m 1.1.2     \u001b[32m✔\u001b[39m \u001b[34mstringr\u001b[39m 1.4.0\n",
      "\u001b[32m✔\u001b[39m \u001b[34mreadr  \u001b[39m 1.3.1     \u001b[32m✔\u001b[39m \u001b[34mforcats\u001b[39m 0.5.0\n",
      "\n",
      "Warning message:\n",
      "“package ‘ggplot2’ was built under R version 4.0.1”\n",
      "Warning message:\n",
      "“package ‘tibble’ was built under R version 4.0.2”\n",
      "Warning message:\n",
      "“package ‘tidyr’ was built under R version 4.0.2”\n",
      "Warning message:\n",
      "“package ‘dplyr’ was built under R version 4.0.2”\n",
      "── \u001b[1mConflicts\u001b[22m ────────────────────────────────────────── tidyverse_conflicts() ──\n",
      "\u001b[31m✖\u001b[39m \u001b[34mdplyr\u001b[39m::\u001b[32mfilter()\u001b[39m masks \u001b[34mstats\u001b[39m::filter()\n",
      "\u001b[31m✖\u001b[39m \u001b[34mdplyr\u001b[39m::\u001b[32mlag()\u001b[39m    masks \u001b[34mstats\u001b[39m::lag()\n",
      "\n",
      "Warning message:\n",
      "“package ‘tidymodels’ was built under R version 4.0.2”\n"
     ]
    }
   ],
   "source": [
    "library(tidyverse)\n",
    "library(repr)\n",
    "library(dplyr)\n",
    "library(tidymodels)\n",
    "\n",
    "install.packages(\"themis\")\n",
    "library(recipes)\n",
    "library(modeldata)\n",
    "library(themis)\n",
    "\n",
    "options(repr.matrix.max.rows = 6)"
   ]
  },
  {
   "cell_type": "markdown",
   "metadata": {},
   "source": [
    "## Introduction"
   ]
  },
  {
   "cell_type": "markdown",
   "metadata": {},
   "source": [
    "## Methods and Results"
   ]
  },
  {
   "cell_type": "code",
   "execution_count": 3,
   "metadata": {},
   "outputs": [
    {
     "ename": "ERROR",
     "evalue": "Error in read.csv(raw_data_url, na.strings = c(\"N/A\", na)) %>% mutate(stroke = as_factor(stroke)): could not find function \"%>%\"\n",
     "output_type": "error",
     "traceback": [
      "Error in read.csv(raw_data_url, na.strings = c(\"N/A\", na)) %>% mutate(stroke = as_factor(stroke)): could not find function \"%>%\"\nTraceback:\n"
     ]
    }
   ],
   "source": [
    "set.seed(1768)\n",
    "raw_data_url <- \"https://raw.githubusercontent.com/jordanjzhao/dsci-project-proposal/main/data/healthcare-dataset-stroke-data.csv\"\n",
    "stroke_data <- read.csv(raw_data_url, na.strings = c(\"N/A\", na)) %>%\n",
    "    mutate(stroke = as_factor(stroke))\n",
    "\n",
    "stroke_data_clean <- na.omit(stroke_data)\n",
    "head(stroke_data_clean)\n",
    "\n",
    "# Select data\n",
    "stroke_data_select <- stroke_data_clean %>%\n",
    "    select(stroke, bmi, avg_glucose_level)\n",
    "stroke_data_select\n",
    "\n",
    "# Create training and testing set\n",
    "stroke_split <- initial_split(stroke_data_select, prop = 0.75, strata = stroke)\n",
    "stroke_train <- training(stroke_split)\n",
    "stroke_test <- testing(stroke_split)"
   ]
  },
  {
   "cell_type": "code",
   "execution_count": 2,
   "metadata": {},
   "outputs": [
    {
     "ename": "ERROR",
     "evalue": "Error in recipe(stroke ~ bmi + avg_glucose_level, data = stroke_train) %>% : could not find function \"%>%\"\n",
     "output_type": "error",
     "traceback": [
      "Error in recipe(stroke ~ bmi + avg_glucose_level, data = stroke_train) %>% : could not find function \"%>%\"\nTraceback:\n"
     ]
    }
   ],
   "source": [
    "# scale and standardize predictors\n",
    "# Due to imbalance in count, more non stroke than stroke cases, must account for this\n",
    "#stroke_recipe <- recipe(stroke ~ bmi + avg_glucose_level, data = stroke_train) %>%\n",
    "#    step_scale(all_predictors()) %>%\n",
    "#    step_center(all_predictors()) %>%\n",
    "#    step_upsample(stroke, over_ratio = 1, skip = FALSE) %>%\n",
    "#    prep()\n",
    "\n",
    "stroke_recipe <- recipe(stroke ~ bmi + avg_glucose_level, data = stroke_train) %>%\n",
    "    step_scale(all_predictors()) %>%\n",
    "    step_center(all_predictors()) %>%\n",
    "    step_upsample(stroke, over_ratio = 1, skip = FALSE) %>%\n",
    "    prep()\n",
    "stroke_recipe\n",
    "\n",
    "upsampled_stroke <- bake(stroke_recipe, stroke_train)\n",
    "\n",
    "upsampled_stroke %>%\n",
    "    group_by(stroke) %>%\n",
    "    summarize(n = n())\n",
    "\n",
    "\n",
    "# 5-fold cross-valiation on training set\n",
    "stroke_vfold <- vfold_cv(stroke_train, v = 5, strata = stroke)\n",
    "\n",
    "\n",
    "# KNN classifier\n",
    "knn_tune <- nearest_neighbor(weight_func = \"rectangular\", neighbors = tune()) %>%\n",
    "    set_engine(\"kknn\") %>%\n",
    "    set_mode(\"classification\")\n",
    "\n",
    "# kvals\n",
    "k_vals <- tibble(neighbors = seq(from = 1, to = 100, by = 5))\n",
    "\n",
    "# Create workflow analysis with recipe and model specs \n",
    "stroke_knn_results <- workflow() %>%\n",
    "    add_recipe(stroke_recipe) %>%\n",
    "    add_model(knn_tune) %>%\n",
    "    tune_grid(resamples = stroke_vfold, grid = k_vals) %>%\n",
    "    collect_metrics()\n",
    "stroke_knn_results\n",
    "\n",
    "# plot k vs accuracy \n",
    "stroke_knn_accuracies <- stroke_knn_results %>%\n",
    "    filter(.metric == \"accuracy\")\n",
    "stroke_knn_accuracies\n",
    "\n",
    "# plot\n",
    "cross_val_plot <- stroke_knn_accuracies %>%\n",
    "    ggplot(aes(x = neighbors, y = mean)) +\n",
    "    geom_point() +\n",
    "    geom_line() +\n",
    "    labs(x = \"Neighbors\", y = \"Accuracy Estimate\") +\n",
    "    theme(text = element_text(size = 12))\n",
    "cross_val_plot\n"
   ]
  },
  {
   "cell_type": "code",
   "execution_count": null,
   "metadata": {},
   "outputs": [],
   "source": []
  },
  {
   "cell_type": "code",
   "execution_count": null,
   "metadata": {},
   "outputs": [],
   "source": []
  },
  {
   "cell_type": "markdown",
   "metadata": {},
   "source": [
    "## Discussion"
   ]
  },
  {
   "cell_type": "markdown",
   "metadata": {},
   "source": [
    "## Works Cited\n",
    "\n",
    "Boehme, Amelia K., et al. “Stroke Risk Factors, Genetics, and Prevention.” Circulation Research, 3 Feb. 2017, https://www.ahajournals.org/doi/full/10.1161/CIRCRESAHA.116.308398. \n",
    "\n",
    "Hägg-Holmberg, Stefanie, et al. “The Role of Blood Pressure in Risk of Ischemic and Hemorrhagic Stroke in Type 1 Diabetes - Cardiovascular Diabetology.” BioMed Central, BioMed Central, 9 July 2019, https://cardiab.biomedcentral.com/articles/10.1186/s12933-019-0891-4. \n",
    "\n",
    "Dataset source: https://www.kaggle.com/fedesoriano/stroke-prediction-dataset\n",
    "Author credentials: fedesoriano"
   ]
  },
  {
   "cell_type": "code",
   "execution_count": null,
   "metadata": {},
   "outputs": [],
   "source": []
  }
 ],
 "metadata": {
  "kernelspec": {
   "display_name": "R",
   "language": "R",
   "name": "ir"
  },
  "language_info": {
   "codemirror_mode": "r",
   "file_extension": ".r",
   "mimetype": "text/x-r-source",
   "name": "R",
   "pygments_lexer": "r",
   "version": "4.0.0"
  }
 },
 "nbformat": 4,
 "nbformat_minor": 4
}
