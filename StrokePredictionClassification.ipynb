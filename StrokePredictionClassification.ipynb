{
 "cells": [
  {
   "cell_type": "markdown",
   "metadata": {},
   "source": [
    "# Classification Analysis of Patient Parameters on Stroke Predictions"
   ]
  },
  {
   "cell_type": "code",
   "execution_count": 1,
   "metadata": {},
   "outputs": [
    {
     "name": "stderr",
     "output_type": "stream",
     "text": [
      "── \u001b[1mAttaching packages\u001b[22m ─────────────────────────────────────── tidyverse 1.3.0 ──\n",
      "\n",
      "\u001b[32m✔\u001b[39m \u001b[34mggplot2\u001b[39m 3.3.2     \u001b[32m✔\u001b[39m \u001b[34mpurrr  \u001b[39m 0.3.4\n",
      "\u001b[32m✔\u001b[39m \u001b[34mtibble \u001b[39m 3.0.3     \u001b[32m✔\u001b[39m \u001b[34mdplyr  \u001b[39m 1.0.2\n",
      "\u001b[32m✔\u001b[39m \u001b[34mtidyr  \u001b[39m 1.1.2     \u001b[32m✔\u001b[39m \u001b[34mstringr\u001b[39m 1.4.0\n",
      "\u001b[32m✔\u001b[39m \u001b[34mreadr  \u001b[39m 1.3.1     \u001b[32m✔\u001b[39m \u001b[34mforcats\u001b[39m 0.5.0\n",
      "\n",
      "Warning message:\n",
      "“package ‘ggplot2’ was built under R version 4.0.1”\n",
      "Warning message:\n",
      "“package ‘tibble’ was built under R version 4.0.2”\n",
      "Warning message:\n",
      "“package ‘tidyr’ was built under R version 4.0.2”\n",
      "Warning message:\n",
      "“package ‘dplyr’ was built under R version 4.0.2”\n",
      "── \u001b[1mConflicts\u001b[22m ────────────────────────────────────────── tidyverse_conflicts() ──\n",
      "\u001b[31m✖\u001b[39m \u001b[34mdplyr\u001b[39m::\u001b[32mfilter()\u001b[39m masks \u001b[34mstats\u001b[39m::filter()\n",
      "\u001b[31m✖\u001b[39m \u001b[34mdplyr\u001b[39m::\u001b[32mlag()\u001b[39m    masks \u001b[34mstats\u001b[39m::lag()\n",
      "\n",
      "Warning message:\n",
      "“package ‘tidymodels’ was built under R version 4.0.2”\n",
      "── \u001b[1mAttaching packages\u001b[22m ────────────────────────────────────── tidymodels 0.1.1 ──\n",
      "\n",
      "\u001b[32m✔\u001b[39m \u001b[34mbroom    \u001b[39m 0.7.0     \u001b[32m✔\u001b[39m \u001b[34mrecipes  \u001b[39m 0.2.0\n",
      "\u001b[32m✔\u001b[39m \u001b[34mdials    \u001b[39m 0.0.9     \u001b[32m✔\u001b[39m \u001b[34mrsample  \u001b[39m 0.0.7\n",
      "\u001b[32m✔\u001b[39m \u001b[34minfer    \u001b[39m 0.5.4     \u001b[32m✔\u001b[39m \u001b[34mtune     \u001b[39m 0.1.1\n",
      "\u001b[32m✔\u001b[39m \u001b[34mmodeldata\u001b[39m 0.0.2     \u001b[32m✔\u001b[39m \u001b[34mworkflows\u001b[39m 0.2.0\n",
      "\u001b[32m✔\u001b[39m \u001b[34mparsnip  \u001b[39m 0.1.3     \u001b[32m✔\u001b[39m \u001b[34myardstick\u001b[39m 0.0.7\n",
      "\n",
      "Warning message:\n",
      "“package ‘broom’ was built under R version 4.0.2”\n",
      "Warning message:\n",
      "“package ‘dials’ was built under R version 4.0.2”\n",
      "Warning message:\n",
      "“package ‘infer’ was built under R version 4.0.3”\n",
      "Warning message:\n",
      "“package ‘modeldata’ was built under R version 4.0.1”\n",
      "Warning message:\n",
      "“package ‘parsnip’ was built under R version 4.0.2”\n",
      "Warning message:\n",
      "“package ‘tune’ was built under R version 4.0.2”\n",
      "Warning message:\n",
      "“package ‘workflows’ was built under R version 4.0.2”\n",
      "Warning message:\n",
      "“package ‘yardstick’ was built under R version 4.0.2”\n",
      "── \u001b[1mConflicts\u001b[22m ───────────────────────────────────────── tidymodels_conflicts() ──\n",
      "\u001b[31m✖\u001b[39m \u001b[34mscales\u001b[39m::\u001b[32mdiscard()\u001b[39m masks \u001b[34mpurrr\u001b[39m::discard()\n",
      "\u001b[31m✖\u001b[39m \u001b[34mdplyr\u001b[39m::\u001b[32mfilter()\u001b[39m   masks \u001b[34mstats\u001b[39m::filter()\n",
      "\u001b[31m✖\u001b[39m \u001b[34mrecipes\u001b[39m::\u001b[32mfixed()\u001b[39m  masks \u001b[34mstringr\u001b[39m::fixed()\n",
      "\u001b[31m✖\u001b[39m \u001b[34mdplyr\u001b[39m::\u001b[32mlag()\u001b[39m      masks \u001b[34mstats\u001b[39m::lag()\n",
      "\u001b[31m✖\u001b[39m \u001b[34myardstick\u001b[39m::\u001b[32mspec()\u001b[39m masks \u001b[34mreadr\u001b[39m::spec()\n",
      "\u001b[31m✖\u001b[39m \u001b[34mrecipes\u001b[39m::\u001b[32mstep()\u001b[39m   masks \u001b[34mstats\u001b[39m::step()\n",
      "\n",
      "Updating HTML index of packages in '.Library'\n",
      "\n",
      "Making 'packages.html' ...\n",
      " done\n",
      "\n",
      "Updating HTML index of packages in '.Library'\n",
      "\n",
      "Making 'packages.html' ...\n",
      " done\n",
      "\n",
      "Loading required package: themis\n",
      "\n",
      "\n",
      "Attaching package: ‘themis’\n",
      "\n",
      "\n",
      "The following object is masked from ‘package:tune’:\n",
      "\n",
      "    tunable\n",
      "\n",
      "\n",
      "The following objects are masked from ‘package:recipes’:\n",
      "\n",
      "    step_downsample, step_upsample\n",
      "\n",
      "\n"
     ]
    }
   ],
   "source": [
    "library(tidyverse)\n",
    "library(repr)\n",
    "library(dplyr)\n",
    "library(tidymodels)\n",
    "install.packages(\"generics\")\n",
    "install.packages(\"themis\")\n",
    "require(themis)\n",
    "\n",
    "\n",
    "options(repr.matrix.max.rows = 6)"
   ]
  },
  {
   "cell_type": "markdown",
   "metadata": {},
   "source": [
    "## Introduction"
   ]
  },
  {
   "cell_type": "markdown",
   "metadata": {},
   "source": [
    "## Methods and Results"
   ]
  },
  {
   "cell_type": "code",
   "execution_count": 11,
   "metadata": {},
   "outputs": [
    {
     "data": {
      "text/html": [
       "<table>\n",
       "<caption>A data.frame: 6 × 12</caption>\n",
       "<thead>\n",
       "\t<tr><th></th><th scope=col>id</th><th scope=col>gender</th><th scope=col>age</th><th scope=col>hypertension</th><th scope=col>heart_disease</th><th scope=col>ever_married</th><th scope=col>work_type</th><th scope=col>Residence_type</th><th scope=col>avg_glucose_level</th><th scope=col>bmi</th><th scope=col>smoking_status</th><th scope=col>stroke</th></tr>\n",
       "\t<tr><th></th><th scope=col>&lt;int&gt;</th><th scope=col>&lt;chr&gt;</th><th scope=col>&lt;dbl&gt;</th><th scope=col>&lt;int&gt;</th><th scope=col>&lt;int&gt;</th><th scope=col>&lt;chr&gt;</th><th scope=col>&lt;chr&gt;</th><th scope=col>&lt;chr&gt;</th><th scope=col>&lt;dbl&gt;</th><th scope=col>&lt;dbl&gt;</th><th scope=col>&lt;chr&gt;</th><th scope=col>&lt;fct&gt;</th></tr>\n",
       "</thead>\n",
       "<tbody>\n",
       "\t<tr><th scope=row>1</th><td> 9046</td><td>Male  </td><td>67</td><td>0</td><td>1</td><td>Yes</td><td>Private      </td><td>Urban</td><td>228.69</td><td>36.6</td><td>formerly smoked</td><td>1</td></tr>\n",
       "\t<tr><th scope=row>3</th><td>31112</td><td>Male  </td><td>80</td><td>0</td><td>1</td><td>Yes</td><td>Private      </td><td>Rural</td><td>105.92</td><td>32.5</td><td>never smoked   </td><td>1</td></tr>\n",
       "\t<tr><th scope=row>4</th><td>60182</td><td>Female</td><td>49</td><td>0</td><td>0</td><td>Yes</td><td>Private      </td><td>Urban</td><td>171.23</td><td>34.4</td><td>smokes         </td><td>1</td></tr>\n",
       "\t<tr><th scope=row>5</th><td> 1665</td><td>Female</td><td>79</td><td>1</td><td>0</td><td>Yes</td><td>Self-employed</td><td>Rural</td><td>174.12</td><td>24.0</td><td>never smoked   </td><td>1</td></tr>\n",
       "\t<tr><th scope=row>6</th><td>56669</td><td>Male  </td><td>81</td><td>0</td><td>0</td><td>Yes</td><td>Private      </td><td>Urban</td><td>186.21</td><td>29.0</td><td>formerly smoked</td><td>1</td></tr>\n",
       "\t<tr><th scope=row>7</th><td>53882</td><td>Male  </td><td>74</td><td>1</td><td>1</td><td>Yes</td><td>Private      </td><td>Rural</td><td> 70.09</td><td>27.4</td><td>never smoked   </td><td>1</td></tr>\n",
       "</tbody>\n",
       "</table>\n"
      ],
      "text/latex": [
       "A data.frame: 6 × 12\n",
       "\\begin{tabular}{r|llllllllllll}\n",
       "  & id & gender & age & hypertension & heart\\_disease & ever\\_married & work\\_type & Residence\\_type & avg\\_glucose\\_level & bmi & smoking\\_status & stroke\\\\\n",
       "  & <int> & <chr> & <dbl> & <int> & <int> & <chr> & <chr> & <chr> & <dbl> & <dbl> & <chr> & <fct>\\\\\n",
       "\\hline\n",
       "\t1 &  9046 & Male   & 67 & 0 & 1 & Yes & Private       & Urban & 228.69 & 36.6 & formerly smoked & 1\\\\\n",
       "\t3 & 31112 & Male   & 80 & 0 & 1 & Yes & Private       & Rural & 105.92 & 32.5 & never smoked    & 1\\\\\n",
       "\t4 & 60182 & Female & 49 & 0 & 0 & Yes & Private       & Urban & 171.23 & 34.4 & smokes          & 1\\\\\n",
       "\t5 &  1665 & Female & 79 & 1 & 0 & Yes & Self-employed & Rural & 174.12 & 24.0 & never smoked    & 1\\\\\n",
       "\t6 & 56669 & Male   & 81 & 0 & 0 & Yes & Private       & Urban & 186.21 & 29.0 & formerly smoked & 1\\\\\n",
       "\t7 & 53882 & Male   & 74 & 1 & 1 & Yes & Private       & Rural &  70.09 & 27.4 & never smoked    & 1\\\\\n",
       "\\end{tabular}\n"
      ],
      "text/markdown": [
       "\n",
       "A data.frame: 6 × 12\n",
       "\n",
       "| <!--/--> | id &lt;int&gt; | gender &lt;chr&gt; | age &lt;dbl&gt; | hypertension &lt;int&gt; | heart_disease &lt;int&gt; | ever_married &lt;chr&gt; | work_type &lt;chr&gt; | Residence_type &lt;chr&gt; | avg_glucose_level &lt;dbl&gt; | bmi &lt;dbl&gt; | smoking_status &lt;chr&gt; | stroke &lt;fct&gt; |\n",
       "|---|---|---|---|---|---|---|---|---|---|---|---|---|\n",
       "| 1 |  9046 | Male   | 67 | 0 | 1 | Yes | Private       | Urban | 228.69 | 36.6 | formerly smoked | 1 |\n",
       "| 3 | 31112 | Male   | 80 | 0 | 1 | Yes | Private       | Rural | 105.92 | 32.5 | never smoked    | 1 |\n",
       "| 4 | 60182 | Female | 49 | 0 | 0 | Yes | Private       | Urban | 171.23 | 34.4 | smokes          | 1 |\n",
       "| 5 |  1665 | Female | 79 | 1 | 0 | Yes | Self-employed | Rural | 174.12 | 24.0 | never smoked    | 1 |\n",
       "| 6 | 56669 | Male   | 81 | 0 | 0 | Yes | Private       | Urban | 186.21 | 29.0 | formerly smoked | 1 |\n",
       "| 7 | 53882 | Male   | 74 | 1 | 1 | Yes | Private       | Rural |  70.09 | 27.4 | never smoked    | 1 |\n",
       "\n"
      ],
      "text/plain": [
       "  id    gender age hypertension heart_disease ever_married work_type    \n",
       "1  9046 Male   67  0            1             Yes          Private      \n",
       "3 31112 Male   80  0            1             Yes          Private      \n",
       "4 60182 Female 49  0            0             Yes          Private      \n",
       "5  1665 Female 79  1            0             Yes          Self-employed\n",
       "6 56669 Male   81  0            0             Yes          Private      \n",
       "7 53882 Male   74  1            1             Yes          Private      \n",
       "  Residence_type avg_glucose_level bmi  smoking_status  stroke\n",
       "1 Urban          228.69            36.6 formerly smoked 1     \n",
       "3 Rural          105.92            32.5 never smoked    1     \n",
       "4 Urban          171.23            34.4 smokes          1     \n",
       "5 Rural          174.12            24.0 never smoked    1     \n",
       "6 Urban          186.21            29.0 formerly smoked 1     \n",
       "7 Rural           70.09            27.4 never smoked    1     "
      ]
     },
     "metadata": {},
     "output_type": "display_data"
    },
    {
     "data": {
      "text/html": [
       "<table>\n",
       "<caption>A data.frame: 4909 × 3</caption>\n",
       "<thead>\n",
       "\t<tr><th></th><th scope=col>stroke</th><th scope=col>bmi</th><th scope=col>avg_glucose_level</th></tr>\n",
       "\t<tr><th></th><th scope=col>&lt;fct&gt;</th><th scope=col>&lt;dbl&gt;</th><th scope=col>&lt;dbl&gt;</th></tr>\n",
       "</thead>\n",
       "<tbody>\n",
       "\t<tr><th scope=row>1</th><td>1</td><td>36.6</td><td>228.69</td></tr>\n",
       "\t<tr><th scope=row>3</th><td>1</td><td>32.5</td><td>105.92</td></tr>\n",
       "\t<tr><th scope=row>4</th><td>1</td><td>34.4</td><td>171.23</td></tr>\n",
       "\t<tr><th scope=row>⋮</th><td>⋮</td><td>⋮</td><td>⋮</td></tr>\n",
       "\t<tr><th scope=row>5108</th><td>0</td><td>30.6</td><td> 82.99</td></tr>\n",
       "\t<tr><th scope=row>5109</th><td>0</td><td>25.6</td><td>166.29</td></tr>\n",
       "\t<tr><th scope=row>5110</th><td>0</td><td>26.2</td><td> 85.28</td></tr>\n",
       "</tbody>\n",
       "</table>\n"
      ],
      "text/latex": [
       "A data.frame: 4909 × 3\n",
       "\\begin{tabular}{r|lll}\n",
       "  & stroke & bmi & avg\\_glucose\\_level\\\\\n",
       "  & <fct> & <dbl> & <dbl>\\\\\n",
       "\\hline\n",
       "\t1 & 1 & 36.6 & 228.69\\\\\n",
       "\t3 & 1 & 32.5 & 105.92\\\\\n",
       "\t4 & 1 & 34.4 & 171.23\\\\\n",
       "\t⋮ & ⋮ & ⋮ & ⋮\\\\\n",
       "\t5108 & 0 & 30.6 &  82.99\\\\\n",
       "\t5109 & 0 & 25.6 & 166.29\\\\\n",
       "\t5110 & 0 & 26.2 &  85.28\\\\\n",
       "\\end{tabular}\n"
      ],
      "text/markdown": [
       "\n",
       "A data.frame: 4909 × 3\n",
       "\n",
       "| <!--/--> | stroke &lt;fct&gt; | bmi &lt;dbl&gt; | avg_glucose_level &lt;dbl&gt; |\n",
       "|---|---|---|---|\n",
       "| 1 | 1 | 36.6 | 228.69 |\n",
       "| 3 | 1 | 32.5 | 105.92 |\n",
       "| 4 | 1 | 34.4 | 171.23 |\n",
       "| ⋮ | ⋮ | ⋮ | ⋮ |\n",
       "| 5108 | 0 | 30.6 |  82.99 |\n",
       "| 5109 | 0 | 25.6 | 166.29 |\n",
       "| 5110 | 0 | 26.2 |  85.28 |\n",
       "\n"
      ],
      "text/plain": [
       "     stroke bmi  avg_glucose_level\n",
       "1    1      36.6 228.69           \n",
       "3    1      32.5 105.92           \n",
       "4    1      34.4 171.23           \n",
       "⋮    ⋮      ⋮    ⋮                \n",
       "5108 0      30.6  82.99           \n",
       "5109 0      25.6 166.29           \n",
       "5110 0      26.2  85.28           "
      ]
     },
     "metadata": {},
     "output_type": "display_data"
    },
    {
     "name": "stdout",
     "output_type": "stream",
     "text": [
      "Rows: 1,227\n",
      "Columns: 3\n",
      "$ stroke            \u001b[3m\u001b[90m<fct>\u001b[39m\u001b[23m 1, 1, 1, 1, 1, 1, 1, 1, 1, 1, 1, 1, 1, 1, 1, 1, 1, …\n",
      "$ bmi               \u001b[3m\u001b[90m<dbl>\u001b[39m\u001b[23m 27.4, 28.2, 22.4, 22.2, 26.5, 23.1, 32.0, 33.6, 22.…\n",
      "$ avg_glucose_level \u001b[3m\u001b[90m<dbl>\u001b[39m\u001b[23m 70.09, 214.09, 193.94, 196.92, 84.03, 74.63, 92.62,…\n"
     ]
    }
   ],
   "source": [
    "set.seed(1768)\n",
    "raw_data_url <- \"https://raw.githubusercontent.com/jordanjzhao/dsci-project-proposal/main/data/healthcare-dataset-stroke-data.csv\"\n",
    "stroke_data <- read.csv(raw_data_url, na.strings = \"N/A\") %>%\n",
    "    mutate(stroke = as_factor(stroke))\n",
    "\n",
    "stroke_data_clean <- na.omit(stroke_data)\n",
    "head(stroke_data_clean)\n",
    "\n",
    "# Select data\n",
    "stroke_data_select <- stroke_data_clean %>%\n",
    "    select(stroke, bmi, avg_glucose_level)\n",
    "stroke_data_select\n",
    "\n",
    "# Create training and testing set\n",
    "stroke_split <- initial_split(stroke_data_select, prop = 0.75, strata = stroke)\n",
    "stroke_train <- training(stroke_split)\n",
    "stroke_test <- testing(stroke_split)\n",
    "glimpse(stroke_test)"
   ]
  },
  {
   "cell_type": "code",
   "execution_count": 3,
   "metadata": {},
   "outputs": [
    {
     "data": {
      "text/html": [
       "<table>\n",
       "<caption>A tibble: 7048 × 3</caption>\n",
       "<thead>\n",
       "\t<tr><th scope=col>bmi</th><th scope=col>avg_glucose_level</th><th scope=col>stroke</th></tr>\n",
       "\t<tr><th scope=col>&lt;dbl&gt;</th><th scope=col>&lt;dbl&gt;</th><th scope=col>&lt;fct&gt;</th></tr>\n",
       "</thead>\n",
       "<tbody>\n",
       "\t<tr><td>-1.4107190</td><td>-0.2295377</td><td>0</td></tr>\n",
       "\t<tr><td>-1.4625420</td><td> 0.1246413</td><td>0</td></tr>\n",
       "\t<tr><td> 0.9083643</td><td>-0.8152694</td><td>0</td></tr>\n",
       "\t<tr><td>⋮</td><td>⋮</td><td>⋮</td></tr>\n",
       "\t<tr><td> 0.3642219</td><td> 3.4651985</td><td>1</td></tr>\n",
       "\t<tr><td> 1.6338876</td><td>-0.9246449</td><td>1</td></tr>\n",
       "\t<tr><td>-0.6074611</td><td>-0.8267235</td><td>1</td></tr>\n",
       "</tbody>\n",
       "</table>\n"
      ],
      "text/latex": [
       "A tibble: 7048 × 3\n",
       "\\begin{tabular}{lll}\n",
       " bmi & avg\\_glucose\\_level & stroke\\\\\n",
       " <dbl> & <dbl> & <fct>\\\\\n",
       "\\hline\n",
       "\t -1.4107190 & -0.2295377 & 0\\\\\n",
       "\t -1.4625420 &  0.1246413 & 0\\\\\n",
       "\t  0.9083643 & -0.8152694 & 0\\\\\n",
       "\t ⋮ & ⋮ & ⋮\\\\\n",
       "\t  0.3642219 &  3.4651985 & 1\\\\\n",
       "\t  1.6338876 & -0.9246449 & 1\\\\\n",
       "\t -0.6074611 & -0.8267235 & 1\\\\\n",
       "\\end{tabular}\n"
      ],
      "text/markdown": [
       "\n",
       "A tibble: 7048 × 3\n",
       "\n",
       "| bmi &lt;dbl&gt; | avg_glucose_level &lt;dbl&gt; | stroke &lt;fct&gt; |\n",
       "|---|---|---|\n",
       "| -1.4107190 | -0.2295377 | 0 |\n",
       "| -1.4625420 |  0.1246413 | 0 |\n",
       "|  0.9083643 | -0.8152694 | 0 |\n",
       "| ⋮ | ⋮ | ⋮ |\n",
       "|  0.3642219 |  3.4651985 | 1 |\n",
       "|  1.6338876 | -0.9246449 | 1 |\n",
       "| -0.6074611 | -0.8267235 | 1 |\n",
       "\n"
      ],
      "text/plain": [
       "     bmi        avg_glucose_level stroke\n",
       "1    -1.4107190 -0.2295377        0     \n",
       "2    -1.4625420  0.1246413        0     \n",
       "3     0.9083643 -0.8152694        0     \n",
       "⋮    ⋮          ⋮                 ⋮     \n",
       "7046  0.3642219  3.4651985        1     \n",
       "7047  1.6338876 -0.9246449        1     \n",
       "7048 -0.6074611 -0.8267235        1     "
      ]
     },
     "metadata": {},
     "output_type": "display_data"
    },
    {
     "name": "stderr",
     "output_type": "stream",
     "text": [
      "`summarise()` ungrouping output (override with `.groups` argument)\n",
      "\n"
     ]
    },
    {
     "data": {
      "text/html": [
       "<table>\n",
       "<caption>A tibble: 2 × 2</caption>\n",
       "<thead>\n",
       "\t<tr><th scope=col>stroke</th><th scope=col>n</th></tr>\n",
       "\t<tr><th scope=col>&lt;fct&gt;</th><th scope=col>&lt;int&gt;</th></tr>\n",
       "</thead>\n",
       "<tbody>\n",
       "\t<tr><td>0</td><td>3524</td></tr>\n",
       "\t<tr><td>1</td><td>3524</td></tr>\n",
       "</tbody>\n",
       "</table>\n"
      ],
      "text/latex": [
       "A tibble: 2 × 2\n",
       "\\begin{tabular}{ll}\n",
       " stroke & n\\\\\n",
       " <fct> & <int>\\\\\n",
       "\\hline\n",
       "\t 0 & 3524\\\\\n",
       "\t 1 & 3524\\\\\n",
       "\\end{tabular}\n"
      ],
      "text/markdown": [
       "\n",
       "A tibble: 2 × 2\n",
       "\n",
       "| stroke &lt;fct&gt; | n &lt;int&gt; |\n",
       "|---|---|\n",
       "| 0 | 3524 |\n",
       "| 1 | 3524 |\n",
       "\n"
      ],
      "text/plain": [
       "  stroke n   \n",
       "1 0      3524\n",
       "2 1      3524"
      ]
     },
     "metadata": {},
     "output_type": "display_data"
    },
    {
     "data": {
      "text/html": [
       "<table>\n",
       "<caption>A tibble: 18 × 7</caption>\n",
       "<thead>\n",
       "\t<tr><th scope=col>neighbors</th><th scope=col>.metric</th><th scope=col>.estimator</th><th scope=col>mean</th><th scope=col>n</th><th scope=col>std_err</th><th scope=col>.config</th></tr>\n",
       "\t<tr><th scope=col>&lt;int&gt;</th><th scope=col>&lt;chr&gt;</th><th scope=col>&lt;chr&gt;</th><th scope=col>&lt;dbl&gt;</th><th scope=col>&lt;int&gt;</th><th scope=col>&lt;dbl&gt;</th><th scope=col>&lt;chr&gt;</th></tr>\n",
       "</thead>\n",
       "<tbody>\n",
       "\t<tr><td>2</td><td>accuracy</td><td>binary</td><td>0.9236833</td><td>5</td><td>0.002514704</td><td>Model1</td></tr>\n",
       "\t<tr><td>2</td><td>roc_auc </td><td>binary</td><td>0.5132673</td><td>5</td><td>0.011598812</td><td>Model1</td></tr>\n",
       "\t<tr><td>4</td><td>accuracy</td><td>binary</td><td>0.9519309</td><td>5</td><td>0.003775361</td><td>Model2</td></tr>\n",
       "\t<tr><td>⋮</td><td>⋮</td><td>⋮</td><td>⋮</td><td>⋮</td><td>⋮</td><td>⋮</td></tr>\n",
       "\t<tr><td>13</td><td>roc_auc </td><td>binary</td><td>0.5858588</td><td>5</td><td>0.026080104</td><td>Model8</td></tr>\n",
       "\t<tr><td>14</td><td>accuracy</td><td>binary</td><td>0.9570921</td><td>5</td><td>0.005228758</td><td>Model9</td></tr>\n",
       "\t<tr><td>14</td><td>roc_auc </td><td>binary</td><td>0.5999176</td><td>5</td><td>0.023984888</td><td>Model9</td></tr>\n",
       "</tbody>\n",
       "</table>\n"
      ],
      "text/latex": [
       "A tibble: 18 × 7\n",
       "\\begin{tabular}{lllllll}\n",
       " neighbors & .metric & .estimator & mean & n & std\\_err & .config\\\\\n",
       " <int> & <chr> & <chr> & <dbl> & <int> & <dbl> & <chr>\\\\\n",
       "\\hline\n",
       "\t 2 & accuracy & binary & 0.9236833 & 5 & 0.002514704 & Model1\\\\\n",
       "\t 2 & roc\\_auc  & binary & 0.5132673 & 5 & 0.011598812 & Model1\\\\\n",
       "\t 4 & accuracy & binary & 0.9519309 & 5 & 0.003775361 & Model2\\\\\n",
       "\t ⋮ & ⋮ & ⋮ & ⋮ & ⋮ & ⋮ & ⋮\\\\\n",
       "\t 13 & roc\\_auc  & binary & 0.5858588 & 5 & 0.026080104 & Model8\\\\\n",
       "\t 14 & accuracy & binary & 0.9570921 & 5 & 0.005228758 & Model9\\\\\n",
       "\t 14 & roc\\_auc  & binary & 0.5999176 & 5 & 0.023984888 & Model9\\\\\n",
       "\\end{tabular}\n"
      ],
      "text/markdown": [
       "\n",
       "A tibble: 18 × 7\n",
       "\n",
       "| neighbors &lt;int&gt; | .metric &lt;chr&gt; | .estimator &lt;chr&gt; | mean &lt;dbl&gt; | n &lt;int&gt; | std_err &lt;dbl&gt; | .config &lt;chr&gt; |\n",
       "|---|---|---|---|---|---|---|\n",
       "| 2 | accuracy | binary | 0.9236833 | 5 | 0.002514704 | Model1 |\n",
       "| 2 | roc_auc  | binary | 0.5132673 | 5 | 0.011598812 | Model1 |\n",
       "| 4 | accuracy | binary | 0.9519309 | 5 | 0.003775361 | Model2 |\n",
       "| ⋮ | ⋮ | ⋮ | ⋮ | ⋮ | ⋮ | ⋮ |\n",
       "| 13 | roc_auc  | binary | 0.5858588 | 5 | 0.026080104 | Model8 |\n",
       "| 14 | accuracy | binary | 0.9570921 | 5 | 0.005228758 | Model9 |\n",
       "| 14 | roc_auc  | binary | 0.5999176 | 5 | 0.023984888 | Model9 |\n",
       "\n"
      ],
      "text/plain": [
       "   neighbors .metric  .estimator mean      n std_err     .config\n",
       "1  2         accuracy binary     0.9236833 5 0.002514704 Model1 \n",
       "2  2         roc_auc  binary     0.5132673 5 0.011598812 Model1 \n",
       "3  4         accuracy binary     0.9519309 5 0.003775361 Model2 \n",
       "⋮  ⋮         ⋮        ⋮          ⋮         ⋮ ⋮           ⋮      \n",
       "16 13        roc_auc  binary     0.5858588 5 0.026080104 Model8 \n",
       "17 14        accuracy binary     0.9570921 5 0.005228758 Model9 \n",
       "18 14        roc_auc  binary     0.5999176 5 0.023984888 Model9 "
      ]
     },
     "metadata": {},
     "output_type": "display_data"
    },
    {
     "data": {
      "text/html": [
       "<table>\n",
       "<caption>A tibble: 9 × 7</caption>\n",
       "<thead>\n",
       "\t<tr><th scope=col>neighbors</th><th scope=col>.metric</th><th scope=col>.estimator</th><th scope=col>mean</th><th scope=col>n</th><th scope=col>std_err</th><th scope=col>.config</th></tr>\n",
       "\t<tr><th scope=col>&lt;int&gt;</th><th scope=col>&lt;chr&gt;</th><th scope=col>&lt;chr&gt;</th><th scope=col>&lt;dbl&gt;</th><th scope=col>&lt;int&gt;</th><th scope=col>&lt;dbl&gt;</th><th scope=col>&lt;chr&gt;</th></tr>\n",
       "</thead>\n",
       "<tbody>\n",
       "\t<tr><td>2</td><td>accuracy</td><td>binary</td><td>0.9236833</td><td>5</td><td>0.002514704</td><td>Model1</td></tr>\n",
       "\t<tr><td>4</td><td>accuracy</td><td>binary</td><td>0.9519309</td><td>5</td><td>0.003775361</td><td>Model2</td></tr>\n",
       "\t<tr><td>6</td><td>accuracy</td><td>binary</td><td>0.9546476</td><td>5</td><td>0.004529093</td><td>Model3</td></tr>\n",
       "\t<tr><td>⋮</td><td>⋮</td><td>⋮</td><td>⋮</td><td>⋮</td><td>⋮</td><td>⋮</td></tr>\n",
       "\t<tr><td>11</td><td>accuracy</td><td>binary</td><td>0.9570921</td><td>5</td><td>0.005228758</td><td>Model7</td></tr>\n",
       "\t<tr><td>13</td><td>accuracy</td><td>binary</td><td>0.9570921</td><td>5</td><td>0.005228758</td><td>Model8</td></tr>\n",
       "\t<tr><td>14</td><td>accuracy</td><td>binary</td><td>0.9570921</td><td>5</td><td>0.005228758</td><td>Model9</td></tr>\n",
       "</tbody>\n",
       "</table>\n"
      ],
      "text/latex": [
       "A tibble: 9 × 7\n",
       "\\begin{tabular}{lllllll}\n",
       " neighbors & .metric & .estimator & mean & n & std\\_err & .config\\\\\n",
       " <int> & <chr> & <chr> & <dbl> & <int> & <dbl> & <chr>\\\\\n",
       "\\hline\n",
       "\t 2 & accuracy & binary & 0.9236833 & 5 & 0.002514704 & Model1\\\\\n",
       "\t 4 & accuracy & binary & 0.9519309 & 5 & 0.003775361 & Model2\\\\\n",
       "\t 6 & accuracy & binary & 0.9546476 & 5 & 0.004529093 & Model3\\\\\n",
       "\t ⋮ & ⋮ & ⋮ & ⋮ & ⋮ & ⋮ & ⋮\\\\\n",
       "\t 11 & accuracy & binary & 0.9570921 & 5 & 0.005228758 & Model7\\\\\n",
       "\t 13 & accuracy & binary & 0.9570921 & 5 & 0.005228758 & Model8\\\\\n",
       "\t 14 & accuracy & binary & 0.9570921 & 5 & 0.005228758 & Model9\\\\\n",
       "\\end{tabular}\n"
      ],
      "text/markdown": [
       "\n",
       "A tibble: 9 × 7\n",
       "\n",
       "| neighbors &lt;int&gt; | .metric &lt;chr&gt; | .estimator &lt;chr&gt; | mean &lt;dbl&gt; | n &lt;int&gt; | std_err &lt;dbl&gt; | .config &lt;chr&gt; |\n",
       "|---|---|---|---|---|---|---|\n",
       "| 2 | accuracy | binary | 0.9236833 | 5 | 0.002514704 | Model1 |\n",
       "| 4 | accuracy | binary | 0.9519309 | 5 | 0.003775361 | Model2 |\n",
       "| 6 | accuracy | binary | 0.9546476 | 5 | 0.004529093 | Model3 |\n",
       "| ⋮ | ⋮ | ⋮ | ⋮ | ⋮ | ⋮ | ⋮ |\n",
       "| 11 | accuracy | binary | 0.9570921 | 5 | 0.005228758 | Model7 |\n",
       "| 13 | accuracy | binary | 0.9570921 | 5 | 0.005228758 | Model8 |\n",
       "| 14 | accuracy | binary | 0.9570921 | 5 | 0.005228758 | Model9 |\n",
       "\n"
      ],
      "text/plain": [
       "  neighbors .metric  .estimator mean      n std_err     .config\n",
       "1 2         accuracy binary     0.9236833 5 0.002514704 Model1 \n",
       "2 4         accuracy binary     0.9519309 5 0.003775361 Model2 \n",
       "3 6         accuracy binary     0.9546476 5 0.004529093 Model3 \n",
       "⋮ ⋮         ⋮        ⋮          ⋮         ⋮ ⋮           ⋮      \n",
       "7 11        accuracy binary     0.9570921 5 0.005228758 Model7 \n",
       "8 13        accuracy binary     0.9570921 5 0.005228758 Model8 \n",
       "9 14        accuracy binary     0.9570921 5 0.005228758 Model9 "
      ]
     },
     "metadata": {},
     "output_type": "display_data"
    },
    {
     "data": {
      "image/png": "[encoded data removed]",
      "text/plain": [
       "plot without title"
      ]
     },
     "metadata": {
      "image/png": {
       "height": 420,
       "width": 420
      }
     },
     "output_type": "display_data"
    }
   ],
   "source": [
    "# scale and standardize predictors\n",
    "# Due to imbalance in count, more non stroke than stroke cases, must account for this\n",
    "#stroke_recipe <- recipe(stroke ~ bmi + avg_glucose_level, data = stroke_train) %>%\n",
    "#    step_scale(all_predictors()) %>%\n",
    "#    step_center(all_predictors()) %>%\n",
    "#    step_upsample(stroke, over_ratio = 1, skip = FALSE) %>%\n",
    "#    prep()\n",
    "\n",
    "#CHOOSE BEST K\n",
    "\n",
    "stroke_recipe <- recipe(stroke ~ ., data = stroke_train) %>%\n",
    "    step_scale(all_predictors()) %>%\n",
    "    step_center(all_predictors()) %>%\n",
    "    themis::step_upsample(stroke, over_ratio = 1, skip = FALSE) %>%\n",
    "    prep() %>%\n",
    "    bake(stroke_train)\n",
    "stroke_recipe\n",
    "\n",
    "#upsampled_stroke <- bake(stroke_recipe, stroke_train)\n",
    "\n",
    "upsampled_stroke <- stroke_recipe %>%\n",
    "    group_by(stroke) %>%\n",
    "    summarize(n = n())\n",
    "upsampled_stroke\n",
    "\n",
    "dummy_recipe <- recipe(stroke ~., data = stroke_recipe)\n",
    "\n",
    "# 5-fold cross-valiation on training set\n",
    "stroke_vfold <- vfold_cv(stroke_train, v = 5, strata = stroke)\n",
    "\n",
    "# KNN classifier\n",
    "knn_tune <- nearest_neighbor(weight_func = \"rectangular\", neighbors = tune()) %>%\n",
    "    set_engine(\"kknn\") %>%\n",
    "    set_mode(\"classification\")\n",
    "\n",
    "# kvals\n",
    "k_vals <- tibble(neighbors = seq(from = 1, to = 100, by = 5))\n",
    "\n",
    "# Create workflow analysis with recipe and model specs \n",
    "stroke_knn_results <- workflow() %>%\n",
    "    add_recipe(dummy_recipe) %>%\n",
    "    add_model(knn_tune) %>%\n",
    "    tune_grid(resamples = stroke_vfold, grid = 10) %>%\n",
    "    collect_metrics()\n",
    "stroke_knn_results\n",
    "\n",
    "# plot k vs accuracy \n",
    "stroke_knn_accuracies <- stroke_knn_results %>%\n",
    "    filter(.metric == \"accuracy\")\n",
    "stroke_knn_accuracies\n",
    "\n",
    "# plot\n",
    "cross_val_plot <- stroke_knn_accuracies %>%\n",
    "    ggplot(aes(x = neighbors, y = mean)) +\n",
    "    geom_point() +\n",
    "    geom_line() +\n",
    "    labs(x = \"Neighbors\", y = \"Accuracy Estimate\") +\n",
    "    theme(text = element_text(size = 12))\n",
    "cross_val_plot\n"
   ]
  },
  {
   "cell_type": "code",
   "execution_count": 8,
   "metadata": {},
   "outputs": [
    {
     "data": {
      "text/plain": [
       "K-Nearest Neighbor Model Specification (classification)\n",
       "\n",
       "Main Arguments:\n",
       "  neighbors = 9\n",
       "  weight_func = rectangular\n",
       "\n",
       "Computational engine: kknn \n"
      ]
     },
     "metadata": {},
     "output_type": "display_data"
    },
    {
     "data": {
      "text/plain": [
       "══ Workflow [trained] ══════════════════════════════════════════════════════════\n",
       "\u001b[3mPreprocessor:\u001b[23m Recipe\n",
       "\u001b[3mModel:\u001b[23m nearest_neighbor()\n",
       "\n",
       "── Preprocessor ────────────────────────────────────────────────────────────────\n",
       "0 Recipe Steps\n",
       "\n",
       "── Model ───────────────────────────────────────────────────────────────────────\n",
       "\n",
       "Call:\n",
       "kknn::train.kknn(formula = ..y ~ ., data = data, ks = ~9, kernel = ~\"rectangular\")\n",
       "\n",
       "Type of response variable: nominal\n",
       "Minimal misclassification: 0.04345464\n",
       "Best kernel: rectangular\n",
       "Best k: 9"
      ]
     },
     "metadata": {},
     "output_type": "display_data"
    }
   ],
   "source": [
    "# BUILD MODEL WITH BEST K\n",
    "\n",
    "# Using K = \"X\"\n",
    "best_spec <- nearest_neighbor(weight_func = \"rectangular\", neighbors = 9) %>%\n",
    "    set_engine(\"kknn\") %>%\n",
    "    set_mode(\"classification\")\n",
    "best_spec\n",
    "\n",
    "best_fit <- workflow() %>%\n",
    "    add_recipe(dummy_recipe) %>%\n",
    "    add_model(best_spec) %>%\n",
    "    fit(data = stroke_train) \n",
    "best_fit\n",
    "\n",
    "                            "
   ]
  },
  {
   "cell_type": "code",
   "execution_count": 10,
   "metadata": {},
   "outputs": [
    {
     "data": {
      "text/html": [
       "<table>\n",
       "<caption>A tibble: 1227 × 4</caption>\n",
       "<thead>\n",
       "\t<tr><th scope=col>.pred_class</th><th scope=col>stroke</th><th scope=col>bmi</th><th scope=col>avg_glucose_level</th></tr>\n",
       "\t<tr><th scope=col>&lt;fct&gt;</th><th scope=col>&lt;fct&gt;</th><th scope=col>&lt;dbl&gt;</th><th scope=col>&lt;dbl&gt;</th></tr>\n",
       "</thead>\n",
       "<tbody>\n",
       "\t<tr><td>0</td><td>1</td><td>27.4</td><td> 70.09</td></tr>\n",
       "\t<tr><td>0</td><td>1</td><td>28.2</td><td>214.09</td></tr>\n",
       "\t<tr><td>0</td><td>1</td><td>22.4</td><td>193.94</td></tr>\n",
       "\t<tr><td>⋮</td><td>⋮</td><td>⋮</td><td>⋮</td></tr>\n",
       "\t<tr><td>0</td><td>0</td><td>16.8</td><td>62.13</td></tr>\n",
       "\t<tr><td>0</td><td>0</td><td>40.8</td><td>91.68</td></tr>\n",
       "\t<tr><td>0</td><td>0</td><td>26.2</td><td>85.28</td></tr>\n",
       "</tbody>\n",
       "</table>\n"
      ],
      "text/latex": [
       "A tibble: 1227 × 4\n",
       "\\begin{tabular}{llll}\n",
       " .pred\\_class & stroke & bmi & avg\\_glucose\\_level\\\\\n",
       " <fct> & <fct> & <dbl> & <dbl>\\\\\n",
       "\\hline\n",
       "\t 0 & 1 & 27.4 &  70.09\\\\\n",
       "\t 0 & 1 & 28.2 & 214.09\\\\\n",
       "\t 0 & 1 & 22.4 & 193.94\\\\\n",
       "\t ⋮ & ⋮ & ⋮ & ⋮\\\\\n",
       "\t 0 & 0 & 16.8 & 62.13\\\\\n",
       "\t 0 & 0 & 40.8 & 91.68\\\\\n",
       "\t 0 & 0 & 26.2 & 85.28\\\\\n",
       "\\end{tabular}\n"
      ],
      "text/markdown": [
       "\n",
       "A tibble: 1227 × 4\n",
       "\n",
       "| .pred_class &lt;fct&gt; | stroke &lt;fct&gt; | bmi &lt;dbl&gt; | avg_glucose_level &lt;dbl&gt; |\n",
       "|---|---|---|---|\n",
       "| 0 | 1 | 27.4 |  70.09 |\n",
       "| 0 | 1 | 28.2 | 214.09 |\n",
       "| 0 | 1 | 22.4 | 193.94 |\n",
       "| ⋮ | ⋮ | ⋮ | ⋮ |\n",
       "| 0 | 0 | 16.8 | 62.13 |\n",
       "| 0 | 0 | 40.8 | 91.68 |\n",
       "| 0 | 0 | 26.2 | 85.28 |\n",
       "\n"
      ],
      "text/plain": [
       "     .pred_class stroke bmi  avg_glucose_level\n",
       "1    0           1      27.4  70.09           \n",
       "2    0           1      28.2 214.09           \n",
       "3    0           1      22.4 193.94           \n",
       "⋮    ⋮           ⋮      ⋮    ⋮                \n",
       "1225 0           0      16.8 62.13            \n",
       "1226 0           0      40.8 91.68            \n",
       "1227 0           0      26.2 85.28            "
      ]
     },
     "metadata": {},
     "output_type": "display_data"
    },
    {
     "data": {
      "text/html": [
       "<table>\n",
       "<caption>A tibble: 2 × 3</caption>\n",
       "<thead>\n",
       "\t<tr><th scope=col>.metric</th><th scope=col>.estimator</th><th scope=col>.estimate</th></tr>\n",
       "\t<tr><th scope=col>&lt;chr&gt;</th><th scope=col>&lt;chr&gt;</th><th scope=col>&lt;dbl&gt;</th></tr>\n",
       "</thead>\n",
       "<tbody>\n",
       "\t<tr><td>accuracy</td><td>binary</td><td>0.9584352</td></tr>\n",
       "\t<tr><td>kap     </td><td>binary</td><td>0.0000000</td></tr>\n",
       "</tbody>\n",
       "</table>\n"
      ],
      "text/latex": [
       "A tibble: 2 × 3\n",
       "\\begin{tabular}{lll}\n",
       " .metric & .estimator & .estimate\\\\\n",
       " <chr> & <chr> & <dbl>\\\\\n",
       "\\hline\n",
       "\t accuracy & binary & 0.9584352\\\\\n",
       "\t kap      & binary & 0.0000000\\\\\n",
       "\\end{tabular}\n"
      ],
      "text/markdown": [
       "\n",
       "A tibble: 2 × 3\n",
       "\n",
       "| .metric &lt;chr&gt; | .estimator &lt;chr&gt; | .estimate &lt;dbl&gt; |\n",
       "|---|---|---|\n",
       "| accuracy | binary | 0.9584352 |\n",
       "| kap      | binary | 0.0000000 |\n",
       "\n"
      ],
      "text/plain": [
       "  .metric  .estimator .estimate\n",
       "1 accuracy binary     0.9584352\n",
       "2 kap      binary     0.0000000"
      ]
     },
     "metadata": {},
     "output_type": "display_data"
    },
    {
     "data": {
      "text/plain": [
       "          Truth\n",
       "Prediction    0    1\n",
       "         0 1176   51\n",
       "         1    0    0"
      ]
     },
     "metadata": {},
     "output_type": "display_data"
    }
   ],
   "source": [
    "# Use Final Model to Predict on Test Dataset\n",
    "\n",
    "stroke_predictions <- predict(best_fit, stroke_test) %>%\n",
    "    bind_cols(stroke_test)\n",
    "stroke_predictions\n",
    "\n",
    "stroke_metrics <- stroke_predictions %>%\n",
    "    metrics(truth = stroke, estimate = .pred_class)\n",
    "stroke_metrics\n",
    "\n",
    "stroke_conf_mat <- stroke_predictions %>%\n",
    "    conf_mat(truth = stroke, estimate = .pred_class)\n",
    "stroke_conf_mat"
   ]
  },
  {
   "cell_type": "markdown",
   "metadata": {},
   "source": [
    "### Confusion Matrix\n",
    "Confusion matrix shows 1176 observations correctly predicted as cases of no strokes, and 51 cases correctly predicted as cases of strokes.\n"
   ]
  },
  {
   "cell_type": "markdown",
   "metadata": {},
   "source": [
    "## Discussion"
   ]
  },
  {
   "cell_type": "markdown",
   "metadata": {},
   "source": [
    "## Works Cited\n",
    "\n",
    "Boehme, Amelia K., et al. “Stroke Risk Factors, Genetics, and Prevention.” Circulation Research, 3 Feb. 2017, https://www.ahajournals.org/doi/full/10.1161/CIRCRESAHA.116.308398. \n",
    "\n",
    "Hägg-Holmberg, Stefanie, et al. “The Role of Blood Pressure in Risk of Ischemic and Hemorrhagic Stroke in Type 1 Diabetes - Cardiovascular Diabetology.” BioMed Central, BioMed Central, 9 July 2019, https://cardiab.biomedcentral.com/articles/10.1186/s12933-019-0891-4. \n",
    "\n",
    "Dataset source: https://www.kaggle.com/fedesoriano/stroke-prediction-dataset\n",
    "Author credentials: fedesoriano"
   ]
  },
  {
   "cell_type": "code",
   "execution_count": null,
   "metadata": {},
   "outputs": [],
   "source": []
  },
  {
   "cell_type": "code",
   "execution_count": null,
   "metadata": {},
   "outputs": [],
   "source": []
  }
 ],
 "metadata": {
  "kernelspec": {
   "display_name": "R",
   "language": "R",
   "name": "ir"
  },
  "language_info": {
   "codemirror_mode": "r",
   "file_extension": ".r",
   "mimetype": "text/x-r-source",
   "name": "R",
   "pygments_lexer": "r",
   "version": "4.0.0"
  }
 },
 "nbformat": 4,
 "nbformat_minor": 4
}
