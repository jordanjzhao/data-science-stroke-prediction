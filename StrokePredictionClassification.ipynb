{
 "cells": [
  {
   "cell_type": "markdown",
   "metadata": {},
   "source": [
    "# Classification Analysis of Patient Parameters on Previous Stroke Predictions Based on KNN Al"
   ]
  },
  {
   "cell_type": "code",
   "execution_count": null,
   "metadata": {},
   "outputs": [],
   "source": [
    "library(tidyverse)\n",
    "library(repr)\n",
    "library(dplyr)\n",
    "library(tidymodels)\n",
    "install.packages(\"generics\")\n",
    "install.packages(\"themis\")\n",
    "require(themis)\n",
    "library(ggplot2)\n",
    "\n",
    "set.seed(1768)\n",
    "options(repr.matrix.max.rows = 6)\n",
    "options(repr.plot.width = 8, repr.plot.width= 10)"
   ]
  },
  {
   "cell_type": "markdown",
   "metadata": {},
   "source": [
    "## Introduction"
   ]
  },
  {
   "cell_type": "markdown",
   "metadata": {},
   "source": [
    "According to the World Health Organization (WHO), strokes are the second leading cause of death globally responsible for approximately 11% of total deaths. A stroke occurs when a blood vessel carrying oxygen and nutrients to the brain is either blocked by clots or bursts due to ruptures. This results in a lack of blood and oxygen flow to the brain and causes brain cells to die.\n",
    "\n",
    "Given a patient data collection of parameters and measurements, can we predict whether or not a patient previously had a stroke? At large, the factors of interest are categorized as reported modifiable risk factors, unlike sex, age and ethnicity which are classified as unmodifiable, and are ultimately hereditary. Modifiable risk factors are usually environmental influences that might raise the risk for stroke in certain people. These modifiable risk factors will make up our predictors of interest.\n",
    "\n",
    "The dataset obtained is used to predict whether a patient is likely to have had a stroke based on input parameters such as gender, age, various diseases, and smoking status. Each row in the data provides relevant information about the patient. In total, there are 5110 observations with respect to 12 attribute parameters."
   ]
  },
  {
   "cell_type": "markdown",
   "metadata": {},
   "source": [
    "Attribute Information\n",
    "- 1) id: unique identifier\n",
    "- 2) gender: \"Male\", \"Female\" or \"Other\"\n",
    "- 3) age: age of the patient\n",
    "- 4) hypertension: 0 if the patient doesn't have hypertension, 1 if the patient has hypertension\n",
    "- 5) heart_disease: 0 if the patient doesn't have any heart diseases, 1 if the patient has a heart disease\n",
    "- 6) ever_married: \"No\" or \"Yes\"\n",
    "- 7) work_type: \"children\", \"Govt_jov\", \"Never_worked\", \"Private\" or \"Self-employed\"\n",
    "- 8) Residence_type: \"Rural\" or \"Urban\"\n",
    "- 9) avg_glucose_level: average glucose level in blood\n",
    "- 10) bmi: body mass index\n",
    "- 11) smoking_status: \"formerly smoked\", \"never smoked\", \"smokes\" or \"Unknown\"*\n",
    "- 12) stroke: 1 if the patient had a stroke or 0 if not\n",
    "*Note: \"Unknown\" in smoking_status means that the information is unavailable for this patient"
   ]
  },
  {
   "cell_type": "markdown",
   "metadata": {},
   "source": [
    "## Methods and Results"
   ]
  },
  {
   "cell_type": "markdown",
   "metadata": {},
   "source": [
    "We will be conducting data analysis via classification on stroke using predictors of interest. We will model our analysis using predictors based on exploratory data anlysis and research articles to support our choice of predictors. Furthermore, we will be using forward selection (Eforymson 1966; Draper and Smith 1966) in order to obtain insight on finding the best subset of predictors. \n",
    "\n",
    "Accuracy will be evaluated via data splits of training and testing sets and resultingly evaluating the accuracy of the classifier. This will be done with randomness via seeds to model reproducibility along with analysis via cross-validation, K-nearest neighbor algorithm parameter selections, retraining, and model evaluation. The model will be graphed using a scatter plot to measure the accuracy of the predictions and classifier along with a confusion matrix.\n",
    "\n",
    "Furthurmore, the class imbalances seen in the stroke dataset may cause poor performance in K-nearest neighbours classification. The dataset contains more cases of no strokes than cases of strokes and will cause problems in the K-nearest neighbor classification algorithm due to imbalances. Despite the knowledge required to correct for these imalances, we will still attempt to correct these imbalances by upsampling our classes for classification. This will lead to a fundamental issue that leads to overfitting of the model as it increase the number of cases in each class to match the most prevalent class which would be the case of no strokes. For this reason, cross-validation will not work as desired with upsampling and should be noted for future experimental research and analysis.\n",
    "\n",
    "Hypertension is the most important modifiable risk factor for stroke, with a strong and continuous relationship between blood pressure and stroke risk (Hägg-Holmberg et al., 2019). Even among those who are not necessarily hypertensive, the higher the blood pressure, the higher the risk of stroke. Blood pressure (regardless of hypertension), rises with increasing age, thereby increasing the lifetime risk of developing this condition. Hence, hypertension (modifiable) is heavily correlated with age (unmodifiable).\n",
    "\n",
    "Body weight and obesity are risk factors for stroke. Obesity is related to stroke risk factors such as hypertension and diabetes. Recent data found that 76% of the effect of BMI on stroke risk was mediated by blood pressure, cholesterol, and glucose levels (Boehme et al., 2017). Blood pressure solely accounted for 65% of the risk because of weight.\n",
    "\n",
    "Stroke risk was nearly doubled in patients with impaired glucose tolerance (range from 140.4-198 mg/dL) compared with those with normal glucose levels (80 mg/dL- 126mg/dL), and nearly tripled in diabetic patients (glucose≥ 198 mg/dL) (Boehme et al., 2017). Patients with low glucose levels (<80mg/dL) had a 50% increased stroke risk compared with those with normal glucose levels.\n",
    "\n",
    "Smoking remains a major risk factor for stroke, nearly doubling the risk and contributing to 15% of all stroke deaths per year (Boehme et al., 2017). Smoking cessation rapidly reduces the risk of stroke, with added risk nearly disappearing 2 to 4 years after smoking cessation.\n",
    "\n",
    "From the supplementary research articles, we will be utaliizing the modifiable risk factors as predictors for determining whether a patient preiviously had a stroke instance.\n"
   ]
  },
  {
   "cell_type": "code",
   "execution_count": null,
   "metadata": {},
   "outputs": [],
   "source": [
    "# Load stroke dataset\n",
    "raw_data_url <- \"https://raw.githubusercontent.com/jordanjzhao/dsci-project-proposal/main/data/healthcare-dataset-stroke-data.csv\"\n",
    "\n",
    "# Foward Selection\n",
    "\n",
    "# Looking at predictors -> age, gender, hypertension, glucose levels, bmi\n",
    "stroke_data_fs <- read.csv(raw_data_url, na.strings = \"N/A\") %>%\n",
    "    mutate(stroke = as_factor(stroke))\n",
    "\n",
    "stroke_data_clean_fs <- na.omit(stroke_data_fs)\n",
    "\n",
    "# Select data -> Foward Selection\n",
    "stroke_data_select_fs <- stroke_data_clean_fs %>%\n",
    "    select(stroke, bmi, avg_glucose_level, hypertension, age, heart_disease)\n",
    "\n",
    "names <- colnames(stroke_data_select_fs %>% select(-stroke))\n",
    "\n",
    "# Create training and testing set -> Foward Selection\n",
    "stroke_split_fs <- initial_split(stroke_data_select_fs, prop = 0.75, strata = stroke)\n",
    "stroke_train_fs <- training(stroke_split_fs)\n",
    "stroke_test_fs <- testing(stroke_split_fs)\n",
    "\n",
    "# Foward Selection in R\n",
    "# Formula\n",
    "fs_formula <- paste(\"stroke\", \"~\", paste(names, collapse=\"+\"))\n",
    "\n",
    "# Code\n",
    "fs_accuracies <- tibble(size = integer(),\n",
    "                        model_string = character(),\n",
    "                       accuracy = numeric())\n",
    "\n",
    "knn_spec_fs <- nearest_neighbor(weight_func = \"rectangular\", neighbors = tune()) %>%\n",
    "    set_engine(\"kknn\") %>%\n",
    "    set_mode(\"classification\")\n",
    "\n",
    "fs_vfold <- vfold_cv(stroke_data_select_fs, v = 5, strate = stroke) \n",
    "\n",
    "n_total <- length(names) \n",
    "\n",
    "selected <- c()\n",
    "\n",
    "for (i in 1:n_total) {\n",
    "    accs <- list()\n",
    "    models <- list()\n",
    "    for (j in 1:length(names)) {\n",
    "        preds_new <- c(selected, names[[j]])\n",
    "        model_string <- paste(\"stroke\", \"~\", paste(preds_new, collapse=\"+\"))\n",
    "        \n",
    "        fs_recipe <- recipe(as.formula(model_string), data = stroke_data_select_fs) %>%\n",
    "                            step_scale(all_predictors()) %>%\n",
    "                            step_center(all_predictors()) %>%\n",
    "                            themis::step_upsample(stroke, over_ratio = 1, skip = FALSE) %>%\n",
    "                            prep() %>%\n",
    "                            bake(stroke_train_fs)\n",
    "\n",
    "        fs_dummy_recipe <- recipe(stroke ~., data = fs_recipe)\n",
    "        \n",
    "        acc <- workflow() %>%\n",
    "            add_recipe(fs_dummy_recipe) %>%\n",
    "            add_model(knn_spec_fs) %>%\n",
    "            tune_grid(resamples = fs_vfold, grid = 10) %>%\n",
    "            collect_metrics() %>%\n",
    "            filter(.metric == \"accuracy\") %>%\n",
    "            summarize(mx = max(mean))\n",
    "        acc <- acc$mx %>%\n",
    "            unlist()\n",
    "        \n",
    "        accs[[j]] <- acc\n",
    "        models[[j]] <- model_string\n",
    "    }\n",
    "    jstar <- which.max(unlist(accs))\n",
    "    fs_accuracies <- fs_accuracies %>%\n",
    "        add_row(size = i,\n",
    "                model_string = models[[jstar]],\n",
    "                accuracy = accs[[jstar]])\n",
    "    selected <- c(selected, names[[jstar]])\n",
    "    names <- names[-jstar]\n",
    "}"
   ]
  },
  {
   "cell_type": "markdown",
   "metadata": {},
   "source": [
    "Table 1. Stroke data set Preview"
   ]
  },
  {
   "cell_type": "code",
   "execution_count": null,
   "metadata": {},
   "outputs": [],
   "source": [
    "head(stroke_data_clean_fs)"
   ]
  },
  {
   "cell_type": "markdown",
   "metadata": {},
   "source": [
    "Table 2. Forward Selection Procedure on Stroke Prediction Dataset"
   ]
  },
  {
   "cell_type": "code",
   "execution_count": null,
   "metadata": {},
   "outputs": [],
   "source": [
    "fs_accuracies"
   ]
  },
  {
   "cell_type": "code",
   "execution_count": null,
   "metadata": {},
   "outputs": [],
   "source": [
    "raw_data_url <- \"https://raw.githubusercontent.com/jordanjzhao/dsci-project-proposal/main/data/healthcare-dataset-stroke-data.csv\"\n",
    "stroke_data <- read.csv(raw_data_url, na.strings = \"N/A\") %>%\n",
    "    mutate(stroke = as_factor(stroke))\n",
    "\n",
    "# Reload and wrangle data for Cross Validation\n",
    "stroke_data_clean <- na.omit(stroke_data)\n",
    "\n",
    "# Select data\n",
    "stroke_data_select <- stroke_data_clean %>%\n",
    "    select(stroke, bmi, avg_glucose_level)\n",
    "\n",
    "# Create training and testing set\n",
    "stroke_split <- initial_split(stroke_data_select, prop = 0.75, strata = stroke)\n",
    "stroke_train <- training(stroke_split)\n",
    "stroke_test <- testing(stroke_split)\n",
    "\n",
    "# Cross Validation to choose best k set-up\n",
    "stroke_recipe <- recipe(stroke ~ ., data = stroke_train) %>%\n",
    "    step_scale(all_predictors()) %>%\n",
    "    step_center(all_predictors()) %>%\n",
    "    themis::step_upsample(stroke, over_ratio = 1, skip = FALSE) %>%\n",
    "    prep() %>%\n",
    "    bake(stroke_train)\n",
    "\n",
    "# Plot of training set dataset sample (scaled/balanced)\n",
    "sb_bmi_avg_gluc_plot <- stroke_recipe %>%\n",
    "    ggplot(aes(x = bmi, y = avg_glucose_level, color = stroke)) +\n",
    "    geom_point(alpha = 0.6) +\n",
    "    ggtitle(\"Body Mass Index Vs. Average Glucose Levels on Previous Stroke\") +\n",
    "    labs(x = \"Body Mass Index (kg/m^2)\", y = \"Average Glucose Level (mg/dL)\", color = \"Previous Stroke Indication\") +\n",
    "    scale_color_manual(labels = c(0, 1),\n",
    "                       values = c(\"steelblue2\", \"orange2\")) +\n",
    "    theme(text = element_text(size = 12))\n",
    "\n",
    "# Balanced predictors confirmation\n",
    "upsampled_stroke <- stroke_recipe %>%\n",
    "    group_by(stroke) %>%\n",
    "    summarize(n = n())\n",
    "\n",
    "# Dummy recipe data workaround for cross validation\n",
    "dummy_recipe <- recipe(stroke ~., data = stroke_recipe)\n",
    "\n",
    "# 5-fold cross-valiation on training set\n",
    "stroke_vfold <- vfold_cv(stroke_train, v = 5, strata = stroke)\n",
    "\n",
    "# KNN classifier\n",
    "knn_tune <- nearest_neighbor(weight_func = \"rectangular\", neighbors = tune()) %>%\n",
    "    set_engine(\"kknn\") %>%\n",
    "    set_mode(\"classification\")\n",
    "\n",
    "# kvals to process\n",
    "k_vals <- tibble(neighbors = seq(from = 1, to = 100, by = 5))\n",
    "\n",
    "# Create workflow analysis with recipe and model specs \n",
    "stroke_knn_results <- workflow() %>%\n",
    "    add_recipe(dummy_recipe) %>%\n",
    "    add_model(knn_tune) %>%\n",
    "    tune_grid(resamples = stroke_vfold, grid = k_vals) %>%\n",
    "    collect_metrics()\n",
    "\n",
    "# filter metrics for accuracy estimate\n",
    "stroke_knn_accuracies <- stroke_knn_results %>%\n",
    "    filter(.metric == \"accuracy\")\n",
    "\n",
    "# plot k vs accuracy estimate for k selection\n",
    "cross_val_plot <- stroke_knn_accuracies %>%\n",
    "    ggplot(aes(x = neighbors, y = mean)) +\n",
    "    geom_point() +\n",
    "    geom_line() +\n",
    "    labs(x = \"Neighbors\", y = \"Accuracy Estimate\") +\n",
    "    theme(text = element_text(size = 12))\n",
    "\n",
    "# Rebuild model with best chosen K\n",
    "\n",
    "# Using best chosen k = 11\n",
    "best_spec <- nearest_neighbor(weight_func = \"rectangular\", neighbors = 11) %>%\n",
    "    set_engine(\"kknn\") %>%\n",
    "    set_mode(\"classification\")\n",
    "\n",
    "best_fit <- workflow() %>%\n",
    "    add_recipe(dummy_recipe) %>%\n",
    "    add_model(best_spec) %>%\n",
    "    fit(data = stroke_train) \n",
    "\n",
    "# Use Final Model to Predict on Test Dataset\n",
    "stroke_predictions <- predict(best_fit, stroke_test) %>%\n",
    "    bind_cols(stroke_test)\n",
    "\n",
    "stroke_metrics <- stroke_predictions %>%\n",
    "    metrics(truth = stroke, estimate = .pred_class)\n",
    "\n",
    "# Create Confusion Matrix to check \n",
    "stroke_conf_mat <- stroke_predictions %>%\n",
    "    conf_mat(truth = stroke, estimate = .pred_class)"
   ]
  },
  {
   "cell_type": "markdown",
   "metadata": {},
   "source": [
    "Table 3. Wrangled Data for Cross Validation"
   ]
  },
  {
   "cell_type": "code",
   "execution_count": null,
   "metadata": {},
   "outputs": [],
   "source": [
    "head(stroke_data_clean)"
   ]
  },
  {
   "cell_type": "markdown",
   "metadata": {},
   "source": [
    "Table 4. Training and Testing Sets"
   ]
  },
  {
   "cell_type": "code",
   "execution_count": null,
   "metadata": {},
   "outputs": [],
   "source": [
    "glimpse(stroke_train)"
   ]
  },
  {
   "cell_type": "code",
   "execution_count": null,
   "metadata": {},
   "outputs": [],
   "source": [
    "glimpse(stroke_test)"
   ]
  },
  {
   "cell_type": "markdown",
   "metadata": {},
   "source": [
    "Table 5. Cross Validation Recipe"
   ]
  },
  {
   "cell_type": "code",
   "execution_count": null,
   "metadata": {},
   "outputs": [],
   "source": [
    "stroke_recipe"
   ]
  },
  {
   "cell_type": "code",
   "execution_count": null,
   "metadata": {},
   "outputs": [],
   "source": [
    "dummy_recipe"
   ]
  },
  {
   "cell_type": "code",
   "execution_count": null,
   "metadata": {},
   "outputs": [],
   "source": [
    "sb_bmi_avg_gluc_plot"
   ]
  },
  {
   "cell_type": "markdown",
   "metadata": {},
   "source": [
    "Figure 1. Scaled and balanced plot of Body Mass Index Vs. Average Glucose Levels sample set to predict previous strokes"
   ]
  },
  {
   "cell_type": "code",
   "execution_count": null,
   "metadata": {},
   "outputs": [],
   "source": [
    "cross_val_plot"
   ]
  },
  {
   "cell_type": "markdown",
   "metadata": {},
   "source": [
    "Figure 2. Cross Validation K Vs Accuracy Estimate for best K (Choosing K = 11)"
   ]
  },
  {
   "cell_type": "code",
   "execution_count": null,
   "metadata": {},
   "outputs": [],
   "source": [
    "best_spec"
   ]
  },
  {
   "cell_type": "code",
   "execution_count": null,
   "metadata": {},
   "outputs": [],
   "source": [
    "best_fit"
   ]
  },
  {
   "cell_type": "markdown",
   "metadata": {},
   "source": [
    "Table 6. Final Model Prediction on Stroke Testing Dataset Accuracy Score"
   ]
  },
  {
   "cell_type": "code",
   "execution_count": null,
   "metadata": {},
   "outputs": [],
   "source": [
    "stroke_metrics"
   ]
  },
  {
   "cell_type": "markdown",
   "metadata": {},
   "source": [
    "Table 7. Confusion Matrix Classifier Predictions Vs Truth Label"
   ]
  },
  {
   "cell_type": "code",
   "execution_count": null,
   "metadata": {},
   "outputs": [],
   "source": [
    "stroke_conf_mat"
   ]
  },
  {
   "cell_type": "code",
   "execution_count": 1,
   "metadata": {},
   "outputs": [
    {
     "ename": "ERROR",
     "evalue": "Error in seq(min(stroke_data$bmi), max(stroke_data$bmi), length.out = 100): object 'stroke_data' not found\n",
     "output_type": "error",
     "traceback": [
      "Error in seq(min(stroke_data$bmi), max(stroke_data$bmi), length.out = 100): object 'stroke_data' not found\nTraceback:\n",
      "1. seq(min(stroke_data$bmi), max(stroke_data$bmi), length.out = 100)" ],
   "execution_count": 28,
   "metadata": {},
   "outputs": [
    {
     "data": {
      "image/png": "iVBORw0KGgoAAAANSUhEUgAABLAAAANICAIAAABYJYFiAAAACXBIWXMAABJ0AAASdAHeZh94\nAAAgAElEQVR4nOzdeXwV9b0//k9CdgigoCSiuKEoouJ1AVvtRYpEpIIiCgpuqNe629q6Qani\nenu9yr2g3NaFRWrFulRF1K+KikupqGjBpYo7Kq2yIwFCyO+P+TWPNBsnMScBP8/ngz8Ocz4z\n530+n5k555WZM5NRUVERAAAAiE9mSxcAAABAyxAIAQAAIiUQAgAAREogBAAAiJRACAAAECmB\nEAAAIFICIQAAQKQEQgAAgEgJhE3s5ptvzkjN4sWL01HAAw88kJGR0bt373QsvMmtW7eu1s5p\n3br13nvvfdFFF3300UfNUMaUKVMyMjL69euX/PfOO+/MyMg46qijvuNim2o5qavsz6ysrC++\n+KKuZitWrMjPz09arlu3rkleulofpnWuuvz9738fPnx4u3btsrKyRo4cmcosf/7zn88777x9\n9tlnm222yc7O3m677X70ox/ddNNNS5cubZKSmrDU1EW14tWqCXsgrSNVqbIDX3vttZrPPvLI\nI9nZ2VlZWX/84x+rtd9zzz3Xr19f6zJHjhyZkZExZcqURs+yWSluPk27mTdUzZWh5pg2/yYD\nsEURCJtYhw4duv2rvLy8EML2229fbXp2dvZ3f7kLL7ywffv23305LW7vvfc+8J8OOOCANm3a\nvPfeexMmTNh3331nzpzZ0tWlZIsai/Ly8qlTp9b17H333ZfWr+Mt5bLLLpsxY0Z5efmAAQP2\n3HPP+huvXr166NChP/jBDyZNmvTuu+9mZ2cXFxcvW7bsxRdfvPLKK/fYY49nnnlmCyl1K5LW\nFa9FNrEWH6lnn3122LBh5eXld9555wknnFDt2Q8++OA///M/G7TARsxSU8tuPt9Ri48pwBan\ngjTr1atXCOHWW29N08LbtWtXdUryJ+RevXql4+WaXGlpabIezps3r9pTH3zwQfIX5datWy9Z\nsiStZUyePDmE8OMf/zj578aNG0tLSzds2NCghdQci8Yt57tI+rNjx44FBQVdu3atq1mvXr0K\nCgqS79alpaVN8tLV+jCtc9Vlr732CiHce++9m21ZWlp64IEHJmvXdddd98UXXyTT169f/+ST\nTx566KEhhKysrCeeeKJJCvsupTbC93XFq7mJ1aUJeyCtI1Wprj3h3Llz27RpE0KYOHFizfZt\n2rRp1apVXl7eokWLai5zxIgRIYTJkyc3epZ6qm3Q5tO0m3lD1VwZao5p828yAFsURwi3YmVl\nZW+++WZLV5EuXbt2ffDBB3fYYYdvv/02+T7RbJIvTA06hFvrWDRiOU2ioqLiyCOPXLRo0Zw5\nc2o++9577/3lL3854ogjysvLm7mwdEu+8u60006bbXnFFVe8/vrrbdq0ee6550aPHr3DDjsk\n03NyckpKSp5//vljjjlm48aN559/fpoOpaZeaiN8L1e8Bu3umrAH0jpS9Vu4cOHRRx+9Zs2a\nm2666fzzz6/ZoF27dhdddNG6desuuOCCFJfZiFlqavHNp0Fqrgw1x7SlNhmALYRA2JLuuOOO\njIyMs88++8MPP+zbt2/r1q0vueSSEML48eMzMjKOPfbYau0nTpxYOX3kyJE5OTnr169fuXJl\n8suQJ598srJlq1atNm3adPPNN++zzz75+fnt2rXr16/fK6+8Uk8xRxxxREZGxrXXXlvzqeuu\nu67qL0Defffd008/fdddd83LyyssLNxzzz3PP//8999//zv2Rk1t27b98Y9/HEKYN29eMqWu\nHku89dZbp556apcuXXJzczt06PDv//7vU6dOraioqLrMDRs2XH/99cmpvNtvv/3QoUPffvvt\naq9b6+9J/vKXvwwfPrxz5845OTmdO3f+j//4jy+//DJ5qq6xqHU5f/7zn0888cRkOe3bt+/d\nu/d///d/Vx4fCCFMnjw5IyPjzDPPLC8v/8///M8ePXoUFBS0a9fuyCOPrH8EK61fv37w4MEh\nhLvvvrvms8kPhI477riqL5p6eSn2YSKVEUlR/YUNHz48IyPj008/DSEcfvjhGRkZP/nJT+pa\n1Ndff/3b3/42hHDjjTcefPDBNRvk5OTccccdxx9//NVXX1212iYZu7pKTWWrT2x2A9zqVrxN\nmzbdddddffr06dChQ3Z2drt27Q499NDf/va3mzZtShrUtYnVtUOo2gNvvPFGTk5OXl7e3/72\nt6ov+sYbb2RlZeXn57/33nu1vp36V6rN9mf9O6vN+vDDD/v3779s2bIxY8ZcfvnltbZZu3bt\nNddc07lz5yeffPKBBx5IZbGNmKWaRm8+VW12xBOpfNY0aHOoa0xr3WQ2u/v6jkMMsAVpwaOT\nkajnlNF77rknhDBs2LBevXp16tSpf//+v/nNbyoqKm699dYQwuDBg6u1nzBhQuX0++6778wz\nzwwh5ObmXn755Zdffvnf/va3in+eMtqvX79TTjmlTZs2gwYNOvHEE4uKikIIeXl577zzTl11\n3nHHHSGEfffdt+ZTPXr0CCFMmTKloqJi3rx5BQUFIYSePXuOGDFi5MiRe++9dwhhm222efPN\nNxvaOfWcMpr4xS9+EULo379//T1WUVExY8aMnJycEEKvXr3OOuusgQMHJnUOHz68vLy8coFD\nhw4NIRQUFJx44omjRo068MADW7dufdlll4UqZzQlXVFSUlI515QpU1q1apWZmXnooYcOHjy4\na9euIYS2bdsuXLiwou6xqLmcSZMmZWRkhBAOPfTQM88887jjjuvYsWMI4eCDD169enXS5t57\n7w0hnHjiiSeddFJhYeHgwYMHDx5cOYLvvffeZvszLy9v6dKlOTk5rVu3XrVqVdUG5eXlyVfY\npUuXtmrVKvzrmXuplJdiH6Y4IimeS7bZwu69997LL7+8bdu2IYQRI0ZcfvnlyepaqzvvvDOE\n0K5du7Vr19b/ug2qoSK1saur1FS2+orUNsCtbsU7/fTTQwg5OTn9+/c/5ZRTSkpKkmM1Z555\nZtKgrk2srh1CtR64+uqrQwh9+vSpWs9BBx0UQrjlllvqelP1rFSp9Gc9O6u6OrByT/jFF1/s\nuuuuIYSLL764nvYFBQUVFRUzZswIIXTu3Llan9d6ymiDZqlVIzafmpv5Zke8IrVVvaGbQ11j\nWnOTSWX31aAhBtiSCYRpV08gTD6Vd9xxx759+1b9cE3xq+GCBQuSD+aqbZJA2L59+3333feT\nTz5JJi5fvnyfffYJIfzsZz+rq87ly5fn5uaGEKp980sO/hQUFCRfHYYMGRJCGD16dNU21113\nXQhh6NChm+2NajYbCI8//vgQwumnn578t64e+/TTT5OrF06bNq1y4qJFi3bfffcQwu9+97tk\nylNPPZV8ba2aXSdOnJiVlVVPIFy0aFF+fn5OTs7s2bOTKeXl5T//+c9DCD169Eim1DoW1ZaT\nXHohIyPj4YcfrmyzfPnyfffdN4Rw6aWXJlPuv//+5AvN/vvv/9lnnyUTV65cmfzupbJZPf2Z\nm5tb8c+RuuOOO6o2eOKJJ0IIxx13XEVFRbXv5SmWl2IfpjgiqQTCFAurqKjYeeedQwgvvvhi\nPUurqKhIosXRRx9df7NG1JD62NUsNcWtPpUNcOta8d55550QQmZmZtWdwBtvvJEkhAULFiRT\nat3E6tohVOuBsrKy5DdvlVHnf//3f0MIP/rRj6r+tahWNUcqxf6sq7Z6OjDZE37zzTfdu3cP\nIZx11lmbNm2qp33S4RUVFf3796+5e681EDZollo1YvOptpmnOOKprOqN2BwqahvTam1S3H01\naIgBtmROGW1JmZmZIYTFixdff/31+fn5TbjkFStW/Pa3v00+9kII7du3P+WUU0IIH3zwQV2z\ntG/f/uijjw4hVF7ZPHHfffeFEI499tjCwsIQwieffBJCSC4bUOmyyy57+umnv/uV66r59NNP\nZ82aFUJIvruEunts4sSJpaWlQ4YMSd5mYvfdd09Kuu2225IpyTGQk046af/9969sdv755ydf\nv+py9913l5aWnnzyyUcccURlGddee+2uu+6amZmZnH2Uiv/7v/8rKys79thjq57+1759++Tr\ny913371x48YQQnLkYfny5bfffnvlr1zatm17xhlnhBDeeuutFF8u+Rt8tZP3kitAnnbaaY0u\nL8U+THFEUpFiYalL7ovQoKsLNvPY1aMRG+AWvuK1a9duxowZ06ZNSw7ZJQ444IDk3jkvv/xy\nPa+V4i40Kytr2rRpubm5v/jFL7755psvv/xyzJgxbdq0mTJlSrKEBkmxPxu3e1+9evWAAQPe\neeeddu3a3XLLLcmgbNbEiRNzc3MnTJjw17/+NcUXasQsiUZsPtWkOOKprOpp+jxKcfeVvk9w\ngGYmELa8bbfdNjmK2IQ6dOhQ7TOyc+fOIYR//OMf9cx18sknhxCq/bAk+SNo5edickLO1Vdf\nXfVnY9nZ2f369dttt92apvoQVq5cOWvWrIEDB5aWlu6///7VLrZes8dmz54dQjjmmGOqLeeo\no47KzMx86623li9fHkJI7vHVp0+fas0qA2etHn/88RBC8mvGSgUFBR999NFbb71Vmbo3K7nS\nRpK6q+rbt29GRsby5cur/pZpm222+cEPflC1WZcuXUIIK1euTPHlBgwYsP322//5z3+uXOzK\nlSv/9Kc/dezYsWYNqZeXYh+mOCKpaFC/pWLNmjUhhNatW6c+SzOPXT0asQFu4SveDjvscOKJ\nJybHptasWfPxxx8vWrRo0aJFyV+gVqxYsdlXTGUX2r179+uuu27p0qWXXnrpxRdfvGrVqltu\nuSU5LbOhGtSfDd29n3HGGclpkCtXrkzOjEhlrj322OPyyy/fuHHjueeem75ZEo3YfKpJccRT\nWdXT9HnUoN1XOj7BAZpZVksXQCgqKkrxz8Cpq/lFJ7kdYv3X9/vJT37Srl27t95664MPPthj\njz1CCPPnz3///feLioqOPPLIpM1//dd/vfrqq6+99lqPHj322WefH//4x/379//xj3+cLL/R\nar04QQihZ8+ejz32WHI6YqWaPZb8nXj69OnPPfdctSVkZ2evX7/+gw8+OOSQQ5K/be+4447V\n2tT/vTBZeM25GipZTs3XatOmTYcOHb755pvPPvss+blmCGGXXXap1izphGoXXahHVlbWiBEj\nbr311rvvvvs3v/lN+Odd4M4666xaL6aXYnkp9mGKI5LKG2lQv6Ui+QXRqlWrUp+lmceuHo3Y\nALfwFS+E8O67715zzTVPPfVUzfiXSlZJcRf685///JFHHpk2bVoIYcCAAWefffbm30xtGtSf\nDd29L168+IYbbhg6dGivXr0eeuihsWPH1nqhr5quvPLK3//+96+88spdd9111llnpWmW0KjN\np6ZURjyVVT1Nn0cN2n2l4xMcoJkJhC0v+bNo00p+pdNQeXl5Q4YMmTx58h//+Merrroq/PPw\n4Mknn1y5wOLi4jfeeGPSpEnTpk1buHDh22+//b//+7/t2rX7+c9/PmbMmEacf5Xo0aNH1T85\n5+fnd+nSZcCAASeccELN91Kzx5I/WtdzK+Tk68vatWvDP7NxVcmPJ+uSXDn9u1+RPHn1Ws8s\nSkqqeonC5HoG39Hpp59+66233nPPPTfccENWVlZymcdaT9tLvbwU+zDFEUlFg/otFclB3YUL\nF6Y+S/OPXV0asQFu4SveW2+9ddhhh61Zs2a//fa79NJLu3Tpkly9Y/z48fWfL1opxV1oZmbm\nySef/NJLL4UQhg8fnuJ7qalB/dnQ3fu0adOSMzX+8Ic/HH300dddd90+++yTSrV5eXkTJ04c\nMGDAFVdccdxxx3Xo0CEds4RGbT7VpDjiqazqafo8atDuKx2f4ADNzCmjW5MNGzak+yWS03gq\nzxpNrjNR9XcUIYQ2bdr88pe/XLBgweLFi6dOnTpo0KA1a9b8+te/Tq6z0jiTJ0+eW8Vzzz03\nderU4cOHp5hsk3s3z5o1q64fyyb3zEi+rq1fv77a7MnHf12SpLps2bLGvbVqy0m+TVaTTEze\nRRPab7/9evbsuWTJkieffPL999+fO3fu3nvvXfV3O40oL8U+THFEUtHk/ZacEvnnP/+5/jH9\n6quvKg9WNP/YVaq51Td0A9zCV7yrrrpqzZo1Q4YMmT9//pgxY0499dShQ4cOHTo0uW5nE1qy\nZMmvfvWrgoKC3Nzcyy677JtvvmncctLan5W/zSspKbnhhhtCCKNGjaq87079jjrqqOOPP37p\n0qXJJX9TOWzViFkasflUk/qIp7Kqp+PzqAl3XwBbBYFwS5T8XbPm6Z0ff/xxul/6iCOOKC4u\nnj9//kcfffTqq69+/PHHPXr06NmzZ62NO3fufOqppz7yyCOPPfZYCGHSpEllZWXprrBWyX0g\nNnt9l+Li4hBC5f0DK9V/E8XktyjJSURVlZaWrlmzJvUrmiTL+eijj6pNX7lyZfLVqnG/aKpf\ncoWPRx55JDnYe+qpp37H8lLswxRHJBVN3m+DBg0qLCxct27dzTffXFebtWvXHnbYYT179kxu\nXtcMY9eIrT7FDXALX/Hmzp0bQjj33HOrHc9JLivahM4555ylS5dee+21o0eP/vvf//7Tn/60\ncctptv68/PLLhw0bVlpaeuyxx9bc4mo1fvz4Nm3aTJ48+eWXX67/xIdGz9KIzaeaRox4Kqt6\nE34eNeHuC2CrIBBuiZJTUJIfa1UqKyureuv5Sg26HsBmZWZmJqcnPfHEE8lxwqrf5JYtWzZ9\n+vTkuqNVlZSU5OXlbdiw4euvv27CYlLXt2/f8M8Lola1fv366dOnL1myJPlvkmxfeOGFqm3K\ny8uTa5nWJbm4aLVr7ZSXl3fp0qWwsPDNN9+snFj/WCQXYpk5c2a16cmw7rDDDsnvNpvWiBEj\nsrOzn3rqqZkzZ2ZmZo4cOfI7lpdiH6Y4Iqlo8n5r27Ztcv/o3/zmN3/6059qNtiwYcOIESM+\n+uijDRs2JL+pa4axS2Wrb9wGuIWveIlqJyE/9NBDSeKqtk01enc3derURx999OCDD7744ouv\nuOKKHj16PPjgg7///e8bsajm7M+77767Z8+eX3755eDBg1M5NXrHHXdMbgd/7rnnpnjdy4bO\n0ojNp1b1j3gqq3r6Po+acPcFsFUQCLdEyf2s5s+fn/zcJYRQVlZ2ySWXVDtFJ/kGuXr16qVL\nlzbhqydnjVZ+k0t+0JJYt27dqFGjzjrrrMrCEn/84x/XrVtXVFSU3MY6hHDTTTddcMEFyT3r\nmsE555xTUFDwwgsvVP2jdVlZ2fnnn3/KKadUHgpIrlY6ffr0119/PZlSUVFxzTXX1H/x1XPO\nOScnJ2fOnDmVV9LftGnT2LFjv/nmm65duyb3N0tlLH7605/m5ubOnDnzkUceqZy4ZMmS0aNH\nhxAuuuiidFyZILm04+effz5v3ry+ffvWc2mcFMtLsQ9THJFUpKPffvWrXx122GHl5eVDhw49\n//zzKw9vJgHshz/84Z/+9KdtttnmnnvuSY6ZNMPYpbLVp74BVrWFr3jJDUseffTRyimvv/76\nRRdd9KMf/SiEsHjx4mTid9ndLV68+JJLLsnOzr7zzjtbtWqVPMjMzLzggguqJfBUNGd/FhQU\nPPzwwx07dnzttdeS+39s1sUXX7zvvvsuWLCg2g2EmnCWhm4+1aQy4qms6o3bHFLRhLsvgK1D\nQ29cSEPVc2P65NO3V69eNZ9K7siUnZ3dt2/fE044Ydddd+3cuXNy+6NBgwYlbTZu3Jh84O2y\nyy5HHXXU//3f/9WzzGT6gQcemErN3bp1Sz7I+/XrV+2p8ePHJ193DjrooJNOOunkk08+6KCD\nMjIyWrVqNWPGjMpmyU3qrr322vpfaLM3pq/1XdTaYzNmzEiu+9KzZ8/TTz996NChnTp1CiF0\n7dp18eLFSZtNmzYld4/Iyck58sgjBw0atMsuuxQWFt50002h7hvTV1RU3Hnnncm73m+//QYO\nHJicEta6deuXXnopaVDrWNRczl133ZWZmZmRkfHv//7vZ5999jHHHNOuXbsQwjHHHFNWVlb/\ne0xlBKvdezrx8MMPJ51c9SbLFTXuD55ieSn2YYojksqN6VMsrCLlG9Mnvv322+RvH4ltt912\n5513rrye7Z577vn22283tIbUx67WUlPZ6lPZALeuFa8yGJSUlFxwwQX9+/dv1arVf/3Xf02f\nPj2EkJeXd84558ybN69Bu7tqPVBSUhJCGDNmTNU2F154YbVeqlWtI/Vd+rOeDqxrT/jss88m\na+a4ceOqtq/W4ZVeeumlylBa143pU5mlHg3afKpt5imOeCqreuM2h83emL4itd1Xg4YYYEsm\nEKZd4wLhN998M2rUqKKiouzs7M6dO48aNerzzz//f//v/4UQ+vfvX9ns6aef7tatW05OTqdO\nne666656ltmgQDhu3LjkA3vq1Kk1n33mmWdOPPHEXXbZpaCgICcnp0uXLieddNKrr75atU3z\nB8KKiooFCxaceuqpXbp0ycnJKSgo2Hfffa+66qqlS5dWbbNmzZorr7xyt912y8nJ2W677YYM\nGfL2228/++yzIYQf/vCHSZuaXw4qKipeeeWVIUOGdOrUKTs7u6ioaOTIke+9917VBjXHotbl\nzJ07d+jQocXFxdnZ2e3bt//Rj36U3Ml6s++x0d/LN2zYsN1227Vp02bNmjVVp9cMhKmUl2If\nJjY7IikGwhQLa1AgrFzs+eef371793bt2mVlZW2//fYlJSUzZsyotuQUa/iOgTDFrX6zG+BW\nt+JNmTJlv/32y8nJ6dChQ58+fR599NGKior169cPGzasdevWHTt2nD17dkVDdndVe+C3v/1t\nCGGvvfZat25d1TarV69ObrE4adKket5aXStVo/uzVpvdE44fPz6EkJGR8eCDD1ZsLt1VVFRU\nHk5MMRDWOstmpbj51NzMUxzxVD5rGrE5pBIIK1LYfQmEwPdGRkWT/gINAACArYXfEAIAAERK\nIAQAAIiUQAgAABApgRAAACBSAiEAAECkBEIAAIBICYQAAACREggBAAAiJRACAABESiAEAACI\nlEAIAAAQKYEQAAAgUgIhAABApLJauoDvlTVr1lx22WUtXQXEory8vKKiIivLfgxga1JRUVFe\nXp6ZmZmZ6cgENIeOHTuOGzeurmd9kWpKZWVl33zzza233trShUAU1qxZU1ZW1r59+4yMjJau\nBYBUlZWVrVmzJi8vLz8/v6Vrge+/jRs3XnTRRfU0EAibWHZ2dufOnVu6CojCqlWrNmzY0KFD\nB4EQYCuyYcOGVatWFRQUFBQUtHQt8P1XVlZWfwNH6gEAACIlEAIAAERKIAQAAIiUQAgAABAp\ngRAAACBSAiEAAECkBEIAAIBICYQAAACREggBAAAiJRACAABESiAEAACIlEAIAAAQKYEQAAAg\nUgIhAABApARCAACASAmEAAAAkRIIAQAAIiUQAgAAREogBAAAiJRACAAAECmBEAAAIFICIQAA\nQKQEQgAAgEgJhAAAAJESCAEAACIlEAIAAERKIAQAAIiUQAgAABApgRAAACBSAiEAAECkBEJg\na5WZmZmZaScGsJXJyMjIzMzMyMho6UKAEELIaukCSLuTTgpffNHSRUBatGnpAiCNevcOc+e2\ndBGQFtkhbNvSNUC69OsXxo5t6SIaQiD8/nvttbBoUUsXAUAD7bxzePHFli4CgAbaaaeWrqCB\nnG0FAAAQKYEQAAAgUgIhAABApARCAACASAmEAAAAkRIIAQAAIiUQAgAAREogBAAAiJRACAAA\nECmBEAAAIFICIQAAQKQEQgAAgEgJhAAAAJESCAEAACIlEAIAAERKIAQAAIiUQAgAABApgRAA\nACBSAiEAAECkBEIAAIBICYQAAACREggBAAAiJRACAABESiAEAACIlEAIAAAQKYEQAAAgUgIh\nAABApARCAACASAmEAAAAkRIIAQAAIiUQAgAAREogBAAAiJRACAAAECmBEAAAIFICIQAAQKQE\nQgAAgEgJhAAAAJESCAEAACIlEAIAAERKIAQAAIiUQAgAABApgRAAACBSAiEAAECkBEIAAIBI\nCYQAAACREggBAAAiJRACAABESiAEAACIlEAIAAAQKYEQAAAgUgIhAABApARCAACASAmEAAAA\nkRIIAQAAIiUQAgAAREogBAAAiJRACAAAECmBEAAAIFICIQAAQKQEQgAAgEgJhAAAAJESCAEA\nACIlEAIAAERKIAQAAIiUQAgAABApgRAAACBSAiEAAECkBEIAAIBICYQAAACREggBAAAiJRAC\nAABESiAEAACIlEAIAAAQKYEQAAAgUgIhAABApARCAACASAmEAAAAkRIIAQAAIiUQAgAAREog\nBAAAiJRACAAAECmBEAAAIFICIQAAQKQEQgAAgEgJhAAAAJESCAEAACIlEAIAAERKIAQAAIiU\nQAgAABApgRAAACBSAiEAAECkBEIAAIBICYQAAACREggBAAAiJRACAABESiAEAACIlEAIAAAQ\nKYEQAAAgUgIhAABApARCAACASAmEAAAAkRIIAQAAIiUQAgAAREogBAAAiJRACAAAECmBEAAA\nIFICIQAAQKQEQgAAgEgJhAAAAJESCAEAACIlEAIAAERKIAQAAIiUQAgAABApgRAAACBSAiEA\nAECkBEIAAIBICYQAAACREggBAAAiJRACAABESiAEAACIlEAIAAAQKYEQAAAgUgIhAABApARC\nAACASAmEAAAAkRIIAQAAIiUQAgAAREogBAAAiJRACAAAECmBEAAAIFICIQAAQKQEQgAAgEgJ\nhAAAAJESCAEAACIlEAIAAERKIAQAAIiUQAgAABApgRAAACBSAiEAAECkBEIAAIBICYQAAACR\nEggBAAAiJRACAABESiAEAACIlEAIAAAQKYEQAAAgUgIhAABApARCAACASAmEAAAAkRIIAQAA\nIiUQAgAAREogBAAAiJRACAAAECmBEAAAIFICIQAAQKQEQgAAgEgJhAAAAJESCELWh2YAACAA\nSURBVAEAACIlEAIAAERKIAQAAIiUQAgAABCprJYuoDEWLlz40EMPffjhh6tWrSooKOjevfsJ\nJ5yw5557fpdljhgxYtCgQcOGDWuqIgEAALZwW98RwgULFvzqV78qLCy85JJLbr755gsvvHDF\nihWjR4/+7LPPkgaPP/74+PHjW7ZIAACALd/Wd4Rw1qxZXbp0+dnPfpb8d/fdd99///1/+ctf\nvv322126dAkhfPjhhy1aIAAAwNZh6wuEZWVlGzdurDolPz9/4sSJyeOrrrpq4cKFIYTZs2eP\nHz9+7NixJ5544vz58//617/ec8892dnZ06dPf/HFF5cvX77tttv26dPn5JNPbtWqVbWXWLhw\n4dixY88555ySkpLy8vL7779/zpw5X3/9dceOHQcPHjxgwIDmeacAAABptfWdMnrwwQd//vnn\nN9100/vvv19RUVHt2TFjxnTt2vXwww+fPn36LrvskpWV9dRTT+28887XX399bm7upEmTnnnm\nmTPOOGPSpEmnnHLKzJkzp0yZUm0JX3755Y033jhkyJCSkpIQwuTJkx966KETTjhhwoQJgwcP\nvuOOO55++unmeacAAABptfUdISwpKVmzZs3999//yiuvJFeU6dWrV58+fXJzc0MIBQUFmZmZ\n2dnZbdu2DSFkZGTk5uaefvrpIYTVq1c/99xzZ5xxxuGHHx5CKCoqWrx48aOPPnraaadlZf3/\n/bB69epx48YdfPDBI0eODCGsXbt21qxZJ5xwQt++fUMIxcXFH3744QMPPHDkkUdW1nPLLbe8\n8MILyePWrVtv2rRp+fLlzdkh9cvKygqhsKWrAACAWGxRcaCsrGzTpk31NNj6jhCGEI4//vhp\n06aNGTOmb9++S5Ysue22284999zPP/+81sbdunVLHnz88cfl5eWV/w0hdO3add26dV9++WXy\n340bN95www0dOnS48MILK2fZuHHjAQccUDlLjx49vvrqq3Xr1lVOKS0tXf1P3377bUVFxaYt\nTNN2PmwZ/hrCoBDah5AfQu8QHmvpegBIkR04338t/fW/uvqr3fqOECZyc3MPOeSQQw45JISw\nYMGCG2+88e677/71r39ds2Xr1q2TB2vXrg0hFBQUVD6Vn58fQigtLU3++9hjj5WWlnbp0qW8\nvDz5YWEyy1VXXZWRkZG0STp0+fLlxcXFyZTRo0ePHj06ebx8+fILLrigQ4cOTf5+gSoWhXB4\nCEUh3BhCdgj3hzA4hIdDGNzShQFQPztworBFxYGysrLMzPqOAm59gXD58uX5+fl5eXmVU/bd\nd99DDz30tddeq3/GJBkmGS9RLSLutNNO55577lVXXTV16tSzzz678qlLL7105513rrqojh07\nNs2bARpjbAgbQ3g+hOTvMqeHcFAIl/o+AbDFswOHLc5WdsroihUrRo0a9eCDD1adWFFR8cUX\nX2yzzTb1z7vLLru0atXq3XffrZzyt7/9raCgYIcddkj+e9BBB+22227/8R//MXPmzPnz54cQ\ndt111+zs7BUrVuz4T4WFhe3atcvOzm7qdwakqDyER0I45p9fJkIIWSGcEcKHIcxvyboA2Aw7\ncNgSbWVHCNu3bz948OD7779/xYoVhxxySGFh4bJly5599tl33333l7/8ZdKmTZs2H3744Ucf\nfbTddttVnbewsLBfv35//OMfi4uLd9tttwULFjz++ONDhgypdtuJvn37zps373/+538mTJhQ\nWFhYUlJy7733tm3bds899/zHP/5x5513dujQYezYsc33noF/sSiEtSH0/NeJ+4cQQngzhANq\nmQOALYIdOGyJtrJAGEI4/fTTu3Tp8vTTT8+dO3fNmjUFBQV77LHH1VdfXXnpl2OOOeaWW265\n4oorrrjiimrznnPOOfn5+ZMmTVq5cmXHjh2HDRt2/PHH13yJ884774ILLpg4ceKVV1555pln\ntm7desqUKcuWLdtmm2169ep1yimnpP1NAnX6RwghhO3+dWKnKk8BsGWyA4ct0dYXCEMIffv2\nTe4DUasDDzzw97//ffJ48uTJVZ/KysoaNWrUqFGjas5VOUsIobCwcOrUqcnjVq1ajRgxYsSI\nEU1QN9AEkmv85vzrxNwQQgilzV0LAA1gBw5boq3sN4RA9PJDCCGs/9eJyZeMguptAdiC2IHD\nlkggBLYuRSGEGicXJXcTLa7eFoAtiB04bIkEQmDrslsIbUN4418nzgshhHBgC5QDQKrswGFL\nJBACW5fMEE4M4fEQPvvnlPUhTA5hvxC6t2RdAGyGHThsibbKi8oAcft1CH8K4YgQzg6hIIQZ\nIXwSwv9r6aoA2Cw7cNjiOEIIbHV2DOGlEPYN4cYQrgihVQhPhdCnpasCYLPswGGL4wghsDXq\nFsKfWroGABrBDhy2LI4QAgAAREogBAAAiJRACAAAECmBEAAAIFICIQAAQKQEQgAAgEgJhAAA\nAJESCAEAACIlEAIAAERKIAQAAIiUQAgAABApgRAAACBSAiEAAECkBEIAAIBICYQAAACREggB\nAAAiJRACAABESiAEAACIlEAIAAAQKYEQAAAgUgIhAABApARCAACASAmEAAAAkRIIAQAAIiUQ\nAgAAREogBAAAiJRACAAAECmBEAAAIFICIQAAQKQEQgAAgEgJhAAAAJESCAEAACIlEAIAAERK\nIAQAAIiUQAgAABApgRAAACBSAiEAAECkBEIAAIBICYQAAACREggBAAAiJRACAABESiAEAACI\nlEAIAAAQKYEQAAAgUgIhAABApARCAACASAmEAAAAkRIIAQAAIiUQAgAAREogBAAAiJRACAAA\nECmBEAAAIFICIQAAQKQEQgAAgEgJhAAAAJESCAEAACIlEAIAAERKIAQAAIiUQAgAABApgRAA\nACBSAiEAAECkBEIAAIBICYQAAACREggBAAAiJRACAABESiAEAACIlEAIAAAQKYEQAAAgUgIh\nAABApARCAACASAmEAAAAkRIIAQAAIiUQAgAAREogBAAAiJRACAAAECmBEAAAIFICIQAAQKQE\nQgAAgEgJhAAAAJESCAEAACIlEAIAAERKIAQAAIiUQAgAABApgRAAACBSAiEAAECkBEIAAIBI\nCYQAAACREggBAAAiJRACAABESiAEAACIlEAIAAAQKYEQAAAgUgIhAABApARCAACASAmEAAAA\nkRIIAQAAIiUQAgAAREogBAAAiJRACAAAECmBEAAAIFICIQAAQKQEQgAAgEgJhAAAAJESCAEA\nACIlEAIAAERKIAQAAIiUQAgAABApgRAAACBSAiEAAECkBEIAAIBICYQAAACREggBAAAilZVK\no4qKigceeGDatGmLFy8uKyur2WDhwoVNXRgAAADplVIg/O///u9f/vKXIYSCgoLs7Ow0lwQA\nAEBzSCkQ/s///E9JScntt9++2267pbsgAAAAmkdKgfDvf//7Aw88IA0CAAB8n6R0UZlOnTpV\nVFSkuxQAAACaU0qB8KSTTrrnnnvSXQoAAADNKaVTRseOHTt06NARI0aceuqpXbp0qXldma5d\nu6ahNgAAANIopUBYWFiYPLj33ntrbeCEUgAAgK1OSoHwpJNOysnJycpKqTEAAABbhZQyXl0H\nBgEAANh6Neyg3zfffPPBBx98++23hYWF3bp1a9++fZrKAgAAIN1SuspoCOGll17q3bv3dttt\n94Mf/ODII4/s3bv3tttu269fv4ULF6a1PgAAANIkpSOEr776ar9+/TZu3HjYYYd169YtPz//\n22+/feedd2bPnv3DH/7w1Vdf7datW7oLBQAAoGmlFAivu+667bbb7umnn95rr72qTp8/f/5R\nRx11zTXX+JEhAADAVielU0ZfeeWV8847r1oaDCEccMAB55133uzZs9NQGAAAAOmVUiBcuXLl\njjvuWOtTu+yyy7Jly5q0JAAAAJpDSoFw++23f/fdd2t96p133tl+++2btCQAAACaQ0qBsH//\n/hMmTHjkkUcqKioqJ1ZUVDz88MO33XbbgAED0lYeAAAA6ZLSRWWuvvrqWbNmHXvssUVFRd27\nd2/dunVyldElS5YUFxf/+te/TneVAAAANLmUjhDuvPPOr7322mmnnVZaWjp79uzHHnts9uzZ\nGzZsOOuss15//fW6fl4IAADAliylI4QhhJ122mnKlCkVFRVLliz59ttv27RpU1RUlNbKAAAA\nSKs6A+GSJUtyc3O32Wab5HHl9IyMjDZt2lSbKBwCAABsdeoMhMXFxSUlJU8++WTyuP6lVL3Y\nDAAAAFuFOgPhsGHDevbsWfm4ueoBAACgmdQZCO+7775aHwMAAPD9kNJVRl966aVly5bV+tSr\nr7764IMPNmlJAAAANIeUAuHhhx8+Z86cWp968cUXzz777CYtCQAAgOZQ320nFi1atGjRouTx\n/Pnz8/LyqjUoLS29//77169fn67qAAAASJv6AuEDDzxw5ZVXJo/HjRtXV7OhQ4c2cVEAAACk\nX32B8IorrjjttNPmzZs3ePDgU045pXv37tUatGrVarfddhs0aFA6KwQAACAt6guEIYTi4uJB\ngwYNHDjwvPPO6927d/PUBAAAQDPYTCBMzJw5M4Tw9ttvd+rUqWPHjsnEt99+e8OGDQcccEAa\nqwMAACBtUrrKaFlZ2ZlnntmjR4+FCxdWTnzuuef+7d/+7YwzzigvL09beQAAAKRLSoFwwoQJ\nd99998CBA3feeefKiUceeeSwYcOmTJkyceLEtJUHAABAuqQUCKdMmfKTn/xk5syZu+66a+XE\nbt263XfffUcffbRACAAAsDVKKRAuWrToiCOOqPWpPn36fPrpp01aEgAAAM0hpUDYtm3bTz75\npNanPvnkk2233bYpKwIAAKBZpBQIBw4ceNddd82aNavqxLKysjvuuON3v/td//7901MbAAAA\naZTSbSeuu+66J554YuDAgV26dOnWrVtubu6KFSveeeedZcuWFRcXX3fddemuEgAAgCaX0hHC\n4uLi+fPn//SnP/3222+ffvrpmTNnvvTSS61atTr77LPnzZvXpUuXdFcJAABAk0vpCGEIoVOn\nTpMmTbr99tu/+uqr0tLSoqKi1q1bp7UyAAAA0qrOQLhkyZLc3NxtttkmeVw5PTMzs3Xr1qtX\nr169enXlxKKiorRWCQAAQJOrMxAWFxeXlJQ8+eSTyeP6l1JRUdHEddF09tgj5OW1dBEANNC2\n24YePVq6CAAaaMcdW7qCBqozEA4bNqxnz56Vj5urHprerD0uDoVLNt8OgC3JjE73FHff1NJV\nANAw3Tu3CiG7patogDoD4X333VfrY7Y+s2aFRYtauggAGubznKkv3r+xpasAoGFaZYWtKxCm\ndJVRAAAAvn/qPELYu3fvFBexYcOGN954o4nqAQAAoJnUGQhfe+21qv/NzMwsKytLHmdkZFRe\nRaZdu3Zt27ZNX30AAACkSZ2njG6s4uuvv+7du/f555//5ptvlpaWbtq0adWqVS+99NLw4cMP\nPPDABQsWNGfFAAAANImUfkP4i1/8ori4eOLEifvvv39eXl4IobCw8Ic//OEf/vCH/Pz8Sy+9\nNM1FAgAA0PRSCoSPPfZYSUlJrU/16dPn0UcfbdKSAAAAaA4pBcJVq1Z9/fXXtT61dOnSVatW\nNWlJAAAANIeUAmH37t0nTJgwb968atNfffXVu+++e6+99kpDYQAAAKRXnVcZrWrcuHHHHnvs\nIYcc0rVr11133TUvL2/dunUff/zxokWLMjIyJk6cmO4qAQAAaHIpBcKf/OQnzz///PXXX//8\n888vWrQomZiTk9OnT58rrriirp8XAgAAsCVLKRCGEA477LAnnnhi06ZNX3311dq1a/Pz84uK\nirKyUp0dAACALU3DEt233367YsWKzp07t2/fPk0FAQAA0DxSuqhMCOGFF1446KCD2rZt26NH\nj7lz5yYTBw0a9Oyzz6atNgAAANIopUD46quv9u/f//3336/6c8Gvv/563rx5Rx999Ouvv562\n8gAAAEiXlALhuHHjioqK3nnnnSlTplRO3G677d56662ioqJrr702XdUBAACQNikFwrlz5557\n7rk77rhjtenbb7/9T3/60zlz5qShMAAAANIrpUC4cuXKnXbaqdaniouL16xZ06QlAQAA0BxS\nCoRFRUXvvvturU/NmTNnhx12aNKSAAAAaA4pBcKjjz769ttvf+ONN6pOXL58+ejRoydPnjxw\n4MD01AYAAEAapRQIr7nmmjZt2vTq1SvJfldeeeUBBxxQXFx8ww03dOnSZezYsWkuEgAAgKaX\n6imjr7322tlnn/3pp5+GEN58880333yzsLDw3HPPnTdvXqdOndJcJAAAAE0vK8V222+//e23\n337bbbf94x//WL16dWFhoRwIAACwVUspED766KO77777Pvvsk5GR0alTJ1EQAADgeyClU0aH\nDRs2c+bMdJcCAABAc0opEB522GEvvPDCpk2b0l0NAAAAzSalU0anT5/+s5/9bODAgaeeeuqe\ne+7Zrl27ag26du2ahtoAAABIo5QCYVFRUfLgySefrLVBRUVFk1UEAABAs0gpEA4bNiwnJyc7\nOzsjIyPdBQEAANA8UgqE9913X7rrAAAAoJltPhCuX7/+rbfeWrt27V577VV57igAAABbu81c\nZXTq1KlFRUW9evU64ogjdthhh5NPPnn16tXNUxkAAABpVd8Rwjlz5pxxxhmtWrUqKSnp0KHD\n3Llz//CHP5SWlj788MPNVh8AAABpUl8gvPnmmzMyMmbPnn344YeHEDZs2DB8+PCHH3544cKF\nPXr0aK4KAQAASIv6ThmdO3du//79kzQYQsjJybn66qtDCHPmzGmGygAAAEir+gLh0qVL99xz\nz6pTkv8uXbo0vUUBAACQfvUFwk2bNuXn51edkpeXF0IoLy9Pb1EAAACk32auMgoAAMD3lUAI\nAAAQqc3cmP6ll15KLiRT1fPPP19tYs02AAAAbOE2Ewhffvnll19+udrEF1544YUXXqg6RSAE\nAADY6tQXCO+5555mqwMAAIBmVl8gHDlyZLPVAQAAQDNzURkAAIBICYQAAACREggBAAAiJRAC\nAABESiAEAACIlEAIAAAQKYEQAAAgUgIhAABApARCAACASAmEAAAAkRIIAQAAIiUQAgAAREog\nBAAAiJRACAAAECmBEAAAIFICIQAAQKQEQgAAgEgJhAAAAJESCAEAACIlEAIAAERKIAQAAIiU\nQAgAABApgRAAACBSAiEAAECkBEIAAIBICYQAAACREggBAAAiJRACAABESiAEAACIlEAIAAAQ\nKYEQAAAgUgIhAABApARCAACASAmEAAAAkRIIAQAAIiUQAgAAREogBAAAiJRACAAAECmBEAAA\nIFICIQAAQKQEQgAAgEgJhAAAAJESCAEAACIlEAIAAERKIAQAAIiUQAgAABApgRAAACBSAiEA\nAECkBEIAAIBICYQAAACREggBAAAiJRACAABESiAEAACIlEAIAAAQKYEQAAAgUgIhAABApARC\nAACASAmEAAAAkRIIAQAAIiUQAgAAREogBAAAiJRACAAAECmBEAAAIFICIQAAQKQEQgAAgEgJ\nhAAAAJESCAEAACIlEAIAAERKIAQAAIiUQAgAABApgRAAACBSAiEAAECkBEIAAIBICYQAAACR\nEggBAAAiJRACAABESiAEAACIlEAIAAAQKYEQAAAgUgIhAABApARCAACASAmEAAAAkRIIAQAA\nIiUQAgAAREogBAAAiJRACAAAECmBEAAAIFICIQAAQKQEQgAAgEgJhAAAAJESCAEAACIlEAIA\nAERKIAQAAIiUQAgAABApgRAAACBSAiEAAECkBEIAAIBICYQAAACREggBAAAiJRACAABESiAE\nAACIlEAIAAAQKYEQAAAgUgIhAABApARCAACASAmEAAAAkRIIAQAAIiUQAgAAREogBAAAiJRA\nCAAAECmBEAAAIFICIQAAQKQEQgAAgEgJhAAAAJESCAEAACIlEAIAAERKIAQAAIiUQAgAABAp\ngRAAACBSzRQIr7/++kGDBr388stVJy5fvnzQoEELFixo6NIWLlw4bty400477bjjjhsxYsT1\n11///vvvf8cKR4wYMWPGjO+4EAAAgK1I8x0hzMzMnDx58oYNG77jchYsWPCrX/2qsLDwkksu\nufnmmy+88MIVK1aMHj36s88+Sxo8/vjj48eP/871AgAAfM81XyA85JBD1qxZ89BDD33H5cya\nNatLly4/+9nPDjjggN133713797jxo3r1KnT22+/nTT48MMPv3OxAAAA339ZzfZKBQUFw4cP\n//3vf9+vX7+OHTvWbFBWVjZ9+vQXX3xx+fLl2267bZ8+fU4++eRWrVrVbLZx48aqU/Lz8ydO\nnJg8vuqqqxYuXBhCmD179vjx48eOHXviiSfOnz//r3/96z333JOdnZ3KSyxcuHDs2LHnnHNO\nSUlJeXn5/fffP2fOnK+//rpjx46DBw8eMGBAk3UKAABAy2m+I4SbNm065phjOnbsOGXKlFob\nTJo06ZlnnjnjjDMmTZp0yimnzJw5s9aWBx988Oeff37TTTe9//77FRUV1Z4dM2ZM165dDz/8\n8OnTp++yyy5ZWVlPPfXUzjvvfP311+fm5qbyEl9++eWNN944ZMiQkpKSEMLkyZMfeuihE044\nYcKECYMHD77jjjuefvrp79wZAAAALa/5jhCGEFq1ajVq1Khrr7124MCBe++9d9WnVq9e/dxz\nz51xxhmHH354CKGoqGjx4sWPPvroaaedlpX1L0WWlJSsWbPm/vvvf+WVVwoKCrp3796rV68+\nffrk5uaGEAoKCjIzM7Ozs9u2bRtCyMjIyM3NPf3001N8idWrV48bN+7ggw8eOXJkCGHt2rWz\nZs064YQT+vbtG0IoLi7+8MMPH3jggSOPPLKynuuvv/7ZZ59NHhcWFubl5S1dujRNHdgIWVlZ\n7Vq6BgAAiMcWFQfKyso2bdpUT4Pmvu3EwQcf/G//9m+/+93vqh3c+/jjj8vLy7t161Y5pWvX\nruvWrfvyyy9rLuT444+fNm3amDFj+vbtu2TJkttuu+3cc8/9/PPPa33FymVu9iU2btx4ww03\ndOjQ4cILL6ycZePGjQcccEDlLD169Pjqq6/WrVtXOSU/P7/wn1q3bp2RkZG5hWnQAEELej+E\ng0PICOH5lJ9dEUJGHf/+lPKSAUiTD8INs0JhtX9/CcdUNtgUNnwQbngu7PNk6Ph82O/DcEsI\n1c//gq1OS3/9r67+apv1CGHizDPPvOiii5555pmDDjqocuLatWtDCAUFBZVT8vPzQwilpaW1\nLiQ3N/eQQw455P9r7+6jqyrvBY//TkLMCxxeJFbjLQFS0FHLbbEKOK2tgzj4UmAGpGqpgiK4\ncMBVpa5iaqNXpdhVh9FBF97qUhT0dmHFWxFdXaB22l4qgzM4jV3UVrQUQa8KiZJr0CRk/jir\n56ZiJUDC0Tyfz18nz9772c85f2z5es4+Z9SoiKivr1+0aNF99913ww037Ltn7969O3mK1atX\nNzc3V1dXt7W15W4szB1SW1ubyWRy++TyuqGhoaqqKjdyzTXXXHPNNbnHDQ0Nc+fOHTBgwIG9\nIkDE3RHzIwYe4NaKiHv2GVwXsTKipnMzA9B9WuPdTBR9Pv5nx8GyqMo/fiFm/musHhJX9ouR\nb8W6l+KGvbFneNQe9pVCV/pE5UBLS8vHN2EBgnDQoEHnnnvu8uXLR4wYkR/MZVsuwHL27bec\nhoaG8vLysrKy/MiIESNOO+20559//uPPu99TDBo0aM6cObW1tQ888MCsWbPym+bPnz948OCO\nU33kl+IAB+03EVdH3BbRO+LSA9l6RMTlfz2yO+LGiFkRf9+JmQHoVi3xTnH0GRTTP3Lr2/HM\nG/HPJ8QPhsa8iDg2prbFv+2KX0e0R2QO70ohXYX5POFFF13U1tb22GOP5UeGDBlSXFy8efPm\n/MhLL71UUVFx7LHHdjywsbHxsssue/TRRzsOtre3b9++fb8hvt9TnHLKKTU1NbNnz37iiSc2\nbdoUEUOHDi0pKWlsbPzsX2Sz2X79+pWUlBzsUwc+wlERGyL+20Ft/ZDvRbwfseigjgWga7XG\nu72i79/auj3+qVf0GRyz8yMnx4rR8aQahMOpAO8QRkSfPn2mTZt2zz3//lGvbDY7bty4Rx55\npKqqqqampr6+fs2aNZMnT/7Qb0L0799/0qRJK1eubGxsHDVqVDab3bVr19NPP7158+Zrr702\nP/mWLVteeeWVo446quOxnTzF2LFjN27ceMcddyxZsiSbzY4fP/7hhx/u27fvcccd9+abb957\n770DBw6sq6vrttcGUjTsELZ29PuIuyKWRBx54McC0OVa4t1ekc09bovm4ijvuLUhnusfo4ui\nNCLaY2+mQG9UQOIKE4QRcfbZZz/11FNbt27Nj1xxxRXl5eVLly595513KisrL7jggilTpux7\n4IwZM6qrq9euXfvcc881NTVVVFQMHz78xhtvzH/1y4QJExYvXrxgwYIFCxZ86NhOnuLKK6+c\nO3funXfeed11182cObN3797Lli3btWvXgAEDRo8effHFF3fdywB0pX+IqIqYWehlAJDTGu/u\njfdfiJlvxdqWaDgijqyOWcPiO0VRFtHeHH+ujP+0LZZtif/xXrxaEv0HxSXDo7Y4PnzHENB9\nMvv+lB8HLfelMg899FChF/LXhg+Pl18u9CKgU5ZFXBrxbMQZB7719xEnRdweMe/Aj4VPoNu+\n1fzsitZCrwIOyS/iC83xp7+LaZ+Jc9qj9V/j8R3x02NiwsnxcFu89/M4uiIGHxGVQ2NeSfR/\nK57+U9x1dHz95PiE/VMKDsQZ3+x17UNl+9/vcGlpaTn//PN/9rOf/a0dCvYOIUDXujuiJGJG\noZcBQN6YeDITvUrj6NyfVfFfi6LstVixK9b3j5MjojV2fyWe6xV9IqIy15hd4wAAEBpJREFU\nzmyPlj/F3e/E/+0XJxdy3ZASn9UGeoL2iFURZ8ZfblUB4BOgLP4uX4M5VTE5It6JTUVR1iuy\n2TgpV4M5R8V/joh3o/4wrxNSJgiBnuB/R2yL+C+FXgYAHbXG7tbY/dcjTRGRu0uwb/z9nnij\n49a98UFEFMURh3GNkDpBCPQE/ysiIkYXeBUA/Ls98fra+Oz/6/CrEhHxWqyIyAyM0yPi2Dj/\n3+KPb8ez+a2vx2OZKB4QYw73WiFh7iEECu9fInK/ELo+IiLWROS+B2lsRM3+tub8PiI6/NnJ\nmQHoPmVRVR2ztsY/Ph/nfybO3RsfvBH/vCv+ZUjM6R3DIuKzccm2ePD/xIVDY15FDHkr1r4e\nq4bEnIoYWui1Q0IEIVB4yyP+scOft/3lwT9F1Oxva87OiKLocBtK52YGoFudGD/Mxn/YFst/\nH99vj5Y+ceKIuGtQXJLbWhRHjIrVf4h/2BbLPohdFTH4pPjvg2NWYdcMqRGEQOHdHXH3wW7N\n+VtfpdyZYwHoJpkoro7Lq+Pyv7VDSfQ7KRafFIsP56qAjtxDCAAAkChBCAAAkChBCAAAkChB\nCAAAkChBCAAAkChBCAAAkChBCAAAkChBCAAAkChBCAAAkChBCAAAkChBCAAAkChBCAAAkChB\nCAAAkChBCAAAkChBCAAAkChBCAAAkChBCAAAkChBCAAAkChBCAAAkChBCAAAkChBCAAAkChB\nCAAAkChBCAAAkChBCAAAkChBCAAAkChBCAAAkChBCAAAkChBCAAAkChBCAAAkChBCAAAkChB\nCAAAkChBCAAAkChBCAAAkChBCAAAkChBCAAAkChBCAAAkChBCAAAkChBCAAAkChBCAAAkChB\nCAAAkChBCAAAkChBCAAAkChBCAAAkChBCAAAkChBCAAAkChBCAAAkChBCAAAkChBCAAAkChB\nCAAAkChBCAAAkChBCAAAkChBCAAAkChBCAAAkChBCAAAkChBCAAAkChBCAAAkChBCAAAkChB\nCAAAkChBCAAAkChBCAAAkChBCAAAkChBCAAAkChBCAAAkChBCAAAkChBCAAAkChBCAAAkChB\nCAAAkChBCAAAkChBCAAAkChBCAAAkChBCAAAkChBCAAAkChBCAAAkChBCAAAkChBCAAAkChB\nCAAAkChBCAAAkChBCAAAkChBCAAAkChBCAAAkChBCAAAkChBCAAAkChBCAAAkChBCAAAkChB\nCAAAkChBCAAAkChBCAAAkChBCAAAkChBCAAAkChBCAAAkChBCAAAkChBCAAAkChBCAAAkChB\nCAAAkChBCAAAkChBCAAAkChBCAAAkChBCAAAkChBCAAAkChBCAAAkChBCAAAkChBCAAAkChB\nCAAAkChBCAAAkChBCAAAkChBCAAAkChBCAAAkChBCAAAkChBCAAAkChBCAAAkChBCAAAkChB\nCAAAkChBCAAAkChBCAAAkChBCAAAkChBCAAAkChBCAAAkChBCAAAkChBCAAAkChBCAAAkChB\nCAAAkChBCAAAkChBCAAAkChBCAAAkChBCAAAkChBCAAAkChBCAAAkChBCAAAkChBCAAAkChB\nCAAAkChBCAAAkChBCAAAkChBCAAAkChBCAAAkChBCAAAkChBCAAAkChBCAAAkChBCAAAkChB\nCAAAkChBCAAAkChBCAAAkChBCAAAkChBCAAAkChBCAAAkChBCAAAkChBCAAAkChBCAAAkChB\nCAAAkChBCAAAkChBCAAAkChBCAAAkChBCAAAkChBCAAAkChBCAAAkKhehV4A3W/kyPjMZwq9\nCAAOzIBjMif8x+JCrwKAA3Ps8E/ZW26CMAErVxZ6BdAtmpqaWlpa+vfvn8lkCr0W6HozC70A\n6CYtLS1NTU1lZWXl5eWFXgvgI6PAp9bevXvb2toKvQoADkx7e3tbW1t7e3uhFwJECEIAAIBk\nCUIAAIBECUIAAIBECUIAAIBECUIAAIBECUIAAIBECUIAAIBECUIAAIBECUIAAIBECUIAAIBE\nCUIAAIBECUIAAIBECUIAAIBECUIAAIBECUIAAIBECUIAAIBECUIAAIBECUIAAIBECUIAAIBE\nCUIAAIBECUIAAIBECUIAAIBECUIAAIBECUIAAIBECUIAAIBECUIAAIBECUIAAIBECUIAAIBE\nCUIAAIBECUIAAIBE9Sr0AnqalpaW7du3F3oVkISmpqaWlpY9e/ZkMplCrwWAzmppaWlqaior\nKysvLy/0WqDna21t/fgdBGFXKikpqaysXLhwYaEXAknYvXt3a2tr//79BSHAp4gghMPsC1/4\nwsdszbS3tx+2pQB0oauuumr9+vXPPPNM3759C70WADpr/fr1V1111ezZs2fPnl3otQDuIQQA\nAEiVIAQAAEiUIAQAAEiUewiBT6tNmzbt3Lnza1/7WklJSaHXAkBn7dy5c9OmTTU1NTU1NYVe\nCyAIAQAAUuUjowAAAIkShAAAAInyw/RAt1i4cOGGDRu++93vfvnLX84PNjQ0TJ8+feHChSNG\njDig2V588cVVq1Zt2bLl3XffraioOPHEE6dOnXrccccdygqnTZs2ceLECy644FAmAUiWKzP0\nDN4hBLpLUVHR/fff/8EHHxziPPX19d///vez2ey3v/3t2267bd68eY2Njd/73vf+/Oc/53ZY\ns2bN7bfffsjrBaCzXJmhxxCEQHcZNWpUU1PTqlWrDnGeJ598srq6+uqrrx45cuTnPve5MWPG\n3HTTTUcfffTvfve73A5btmw55MUCcABcmaHH8JFRoLtUVFRceOGFDz300Lhx4yorK/fdoaWl\nZcWKFb/61a8aGhqOPPLIM84445vf/GZxcfG+u7W2tnYcKS8vv/POO3OPa2trX3zxxYh45pln\nbr/99rq6um984xubNm367W9/u3z58pKSks6c4sUXX6yrq7viiivGjx/f1ta2cuXKX/7yl2+9\n9VZlZeWkSZPOOeecLntRAHoEV2boMbxDCHSXvXv3TpgwobKyctmyZR+5w9KlS9etW3fppZcu\nXbr04osvfuKJJz5yz1NPPXXbtm233nrrH/7wh31/Kef6668fNmzY6aefvmLFiiFDhvTq1evn\nP//54MGDFy5cWFpa2plT7NixY9GiRZMnTx4/fnxE3H///atWrZo6deqSJUsmTZp0zz33rF27\n9pBfDIAexZUZegzvEALdqLi4+LLLLrv55pvPO++8E044oeOm3bt3P/vss5deeunpp58eEccc\nc8xrr732+OOPT58+vVevv7o0jR8/vqmpaeXKlevXr899b8Ho0aPPOOOM0tLSiKioqCgqKiop\nKenbt29EZDKZ0tLSGTNmdPIUu3fvvummm0499dRvfetbEfHee+89+eSTU6dOHTt2bERUVVVt\n2bLlpz/96VlnndX9rxbAp4YrM/QY3iEEutepp5568skn//jHP/7Q/0J+9dVX29rajj/++PzI\nsGHD9uzZs2PHjn0nmTJlyoMPPnj99dePHTv2jTfeuOuuu+bMmbNt27aPPGN+zv2eorW19Qc/\n+MHAgQPnzZuXP6S1tXXkyJH5Qz7/+c+//vrre/bsOZgnD9BzuTJDz+AdQqDbzZw586qrrlq3\nbt0pp5ySH3zvvfcioqKiIj9SXl4eEc3NzR85SWlp6ahRo0aNGhUR9fX1ixYtuu+++2644YZ9\n9+zdu3cnT7F69erm5ubq6uq2trbc7Su5Q2prazOZTG6fvXv3RkRDQ0NVVdXBPX2AnsqVGXoA\nQQh0u0GDBp177rnLly/v+PODuX8c5P4zn7PvvxJyGhoaysvLy8rK8iMjRow47bTTnn/++Y8/\n735PMWjQoDlz5tTW1j7wwAOzZs3Kb5o/f/7gwYM7TvWRX4oDkCxXZugxfGQUOBwuuuiitra2\nxx57LD8yZMiQ4uLizZs350deeumlioqKY489tuOBjY2Nl1122aOPPtpxsL29ffv27QMGDPj4\nk+73FKecckpNTc3s2bOfeOKJTZs2RcTQoUNLSkoaGxs/+xfZbLZfv34lJSUH+9QBehpXZuhJ\nvEMIHA59+vSZNm3aPffckx/JZrPjxo175JFHqqqqampq6uvr16xZM3ny5A9983j//v0nTZq0\ncuXKxsbGUaNGZbPZXbt2Pf3005s3b7722mvzk2/ZsuWVV1456qijOh7byVOMHTt248aNd9xx\nx5IlS7LZ7Pjx4x9++OG+ffsed9xxb7755r333jtw4MC6urpue20APmVcmaEnEYTAYXL22Wc/\n9dRTW7duzY9cccUV5eXlS5cufeeddyorKy+44IIpU6bse+CMGTOqq6vXrl373HPPNTU1VVRU\nDB8+/MYbb8x/wcCECRMWL168YMGCBQsWfOjYTp7iyiuvnDt37p133nndddfNnDmzd+/ey5Yt\n27Vr14ABA0aPHn3xxRd33csA0BO4MkOPkdn3p2MAAABIgXsIAQAAEiUIAQAAEiUIAQAAEiUI\nAQAAEiUIAQAAEiUIAQAAEiUIAeBT7PLLL89kMi+//HKhFwLAp5IgBIAu9p3vfCfzsb7yla8c\n9OS33nqr/AOgq/Qq9AIAoKf56le/2tramv9zxYoVO3funDt3bnFxcW6kpqbm4GZ+/fXXr7vu\nui9+8YvDhg3rgoUCkDxBCABdbOLEiRMnTsz/uW7dup07d/7oRz8qKys7xJk3btx4iDMAQEc+\nMgoABXDhhRdmMpk333zzrLPOKi8vf/zxxyPi61//eiaTaWxszO/W2tqayWTGjRuX2zpp0qSI\nOOecczKZzK9//ev8bkVFRT/84Q9rampKS0urq6tvvvnm9vb2w/6cAPj08Q4hABTAEUccERFX\nX311SUlJXV1dZz5Eev311x955JHLly+vq6sbOXLkiSeemN90yy23vPDCC7Nnzy4uLl6yZEld\nXd2wYcMuuuiibnwCAPQIghAACqCkpCQi3n777aeeeqqoqFMf2BkzZswvfvGLiDjttNPOPvvs\njpv++Mc/btiwITfnmWee+aUvfeknP/mJIARgv3xkFAAKIJPJRMT06dM7WYMfb/78+bkajIiR\nI0cWFxfv2LHj0KcFoMcThABQMMcff3yXzDN8+PD840wm06dPn+bm5i6ZGYCeTRACQMH069ev\nS+YpLS3tknkASI0gBIBPrg8++KDQSwCgJxOEAPBJkbsPsKWlJT/y6quvFm45APR8ghAAPimq\nqqoiYvPmzfmRBx98sOMOxcXFEeH+QAC6iiAEgE+KSy65JCKuueaaZ599dsOGDbW1tb/5zW+y\n2Wx+h9zPFd56662LFy/euHFjwRYKQE8hCAHgk2LMmDHLli1rbm4+77zzJk2atHPnztWrV2ez\n2ffffz+3w8SJE6dMmVJfX3/LLbds3bq1sKsFoAfItLe3F3oNAAAAFIB3CAEAABIlCAEAABIl\nCAEAABIlCAEAABIlCAEAABIlCAEAABIlCAEAABIlCAEAABIlCAEAABIlCAEAABIlCAEAABIl\nCAEAABIlCAEAABL1/wH55pqzkP25XgAAAABJRU5ErkJggg==",
      "text/plain": [
       "plot without title"
      ]
     },
     "metadata": {
      "image/png": {
       "height": 420,
       "width": 600
      }
     },
     "output_type": "display_data"
    }
   ],
   "execution_count": null,
   "metadata": {},
   "outputs": [],
   "source": [
    "TClass <- factor(c(\"No Stroke\", \"No Stroke\", \"Stroke\", \"Stroke\"))\n",
    "PClass <- factor(c(\"No Stroke\", \"Stroke\", \"No Stroke\", \"Stroke\"))\n",
    "Y      <- c(1171, 0, 56, 0)\n",
    "df <- data.frame(TClass, PClass, Y)\n",
    "\n",
    "library(ggplot2)\n",
    "ggplot(data =  df, mapping = aes(x = TClass, y = PClass)) +\n",
    "    ggtitle(\"Truth vs. Prediction Model of Confusion Matrix for KNN Classifier\") +\n",
    "    labs(x = \"Truth\", y = \"Prediction\") +\n",
    "    geom_tile(aes(fill = Y), colour = \"white\") +\n",
    "    geom_text(aes(label = sprintf(\"%1.0f\", Y)), vjust = 1) +\n",
    "    scale_fill_gradient(low = \"blue\", high = \"red\") +\n",
    "    theme_bw() + theme(legend.position = \"none\") + \n",
    "    theme(text = element_text(size = 12))"
   ]
  },
  {
   "cell_type": "markdown",
   "metadata": {},
   "source": [
    "Figure 3. Confusion Matrix Model for KNN Classifer using mosaic plot"
   ]
  },
  {
   "cell_type": "markdown",
   "metadata": {},
   "source": [
    "## Discussion"
   ]
  },
  {
   "cell_type": "markdown",
   "metadata": {},
   "source": [
    "From the methods and resuts analyzed, the prediction of patients previous strokes using classification method was not as strong due to various issues and indicators.\n",
    "From the methods and resuts analyzed, the prediction of patients previous strokes using K-nearest neighbors classification was not a strong predictor due to various issues.\n",
    "\n",
    "Table 2. illustrates the potential selection of a good subset of predictors using the method of forward selection. We see the highest accuracy estimate with predictors bmi and heart disease at a score 0.9578318. The lowest accuracy estimate with predictors bmi, heart disease, hypertension, age, and average glucose level appears at a score of 0.9570171. This model predictor provides only an estimate of the true accuracy, however, the dataset does not indicate the types of heart diseases as such, the use of average glucose levels has been integrated instead.\n",
    "\n",
    "From Table 6., we can see that using a K-nearest neighbour classifcation tuned with the best K chosen at k = 11, the accuracy score was estimated to be at a value of 0.9453953. This is a very high estimation accuracy for the classifier, however, due to the upsampling used along with cross validation, the classification is more likely to over fit the points in classification to the majority.\n",
    "         \n",
    "From Table 7., the confusion matrix shows 1160 observations correctly predicted as cases of no strokes and no correct predictions of stroke cases. However the classifier did make mistakes, it predicted 67 cases of no strokes when they were truly stroke cases. In the cases of predicting strokes, it is not beneficial to have the classifier predict false negatives, as this can result in patients not receiving the appropriate medical attention required. Due to the majority seen in cases of no strokes, it must be the case that the accuracy must be further improved for better predictions of previous strokes.\n",
    "\n",
    "The analysis models very similar to our predictions previously made such that we were certain there would be a positive relationship between the attribute parameters as predictors for previous stroke. This was seen in the case of the forward selection model. However, as mentioned previously there was a lack of certainty in classifying previous strokes due to the heavy upsampling required. As previoulsy stated, it is known to be a direct cause to overfitting. Each individual data point has a stronger and stronger vote regarding nearby points. Since the data themselves are noisy, this causes a more “jagged” boundary corresponding to a less simple model, which hence impacts the accuracy of our classification model.\n",
    "\n",
    "The impacts of these findings can further provide added certainty to the use of these attribute paramters of bmi, glucose levels, and hypertension to predict stroke. However, further research must be done to cross check accuracy estimates with respect to proper balancing of the stroke dataset.\n",
    "\n",
    "This would be an important discovery since our given predictors (bmi, glucose levels, hypertension, etc.) are common medical conditions that are overlooked or treated without regard to long-term side effects, such as the increased potential for strokes (or furthermore, heart disease). While our model does not provide a 100% accuracy, only a close estimate, it could still be used as a method to evaluate a patient’s medical history (with reference to our mentioned predictors) and determine wether they are at potential risk. Performing this evaluation prematurely using our classification model could help the majority of patients avoid the worst-case scenario of stroke occurrence, and begin to take the proper measures (or medical treatments) to actively prevent it.   \n",
    "\n",
    "In the cases proper balanced is implemented, there can be further predictions using further parameters to solidfy the prediction of previous strokes on patients. As a result, future research could be dedicated to determining if predictions of future stroke instances and concerns to alert patients for medical attention could be possible."
   ]
  },
  {
   "cell_type": "markdown",
   "metadata": {},
   "source": [
    "## Works Cited\n",
    "\n",
    "Boehme, Amelia K., et al. “Stroke Risk Factors, Genetics, and Prevention.” Circulation Research, 3 Feb. 2017, https://www.ahajournals.org/doi/full/10.1161/CIRCRESAHA.116.308398. \n",
    "\n",
    "Draper, Norman, and Harry Smith. Applied Regression Analysis. Wiley. 1966.\n",
    "\n",
    "Eforymson, M. “Stepwise Regression—a Backward and Forward Look.” In Eastern Regional Meetings of the Institute of Mathematical Statistics. 1966.\n",
    "\n",
    "Hägg-Holmberg, Stefanie, et al. “The Role of Blood Pressure in Risk of Ischemic and Hemorrhagic Stroke in Type 1 Diabetes - Cardiovascular Diabetology.” BioMed Central, BioMed Central, 9 July 2019, https://cardiab.biomedcentral.com/articles/10.1186/s12933-019-0891-4. \n",
    "\n",
    "Timbers, Tiffany-Anne, et al. Data Science: An Introduction. CRC Press, 2022. \n",
    "\n",
    "Dataset source: https://www.kaggle.com/fedesoriano/stroke-prediction-dataset\n",
    "Author credentials: fedesoriano"
   ]
  },
  {
   "cell_type": "code",
   "execution_count": null,
   "metadata": {},
   "outputs": [],
   "source": []
  }
 ],
 "metadata": {
  "kernelspec": {
   "display_name": "R",
   "language": "R",
   "name": "ir"
  },
  "language_info": {
   "codemirror_mode": "r",
   "file_extension": ".r",
   "mimetype": "text/x-r-source",
   "name": "R",
   "pygments_lexer": "r",
   "version": "4.0.0"
  }
 },
 "nbformat": 4,
 "nbformat_minor": 4
  }
