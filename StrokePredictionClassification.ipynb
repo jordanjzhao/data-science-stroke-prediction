{
 "cells": [
  {
   "cell_type": "markdown",
   "metadata": {},
   "source": [
    "# Classification Analysis of Patient Parameters on Previous Stroke Predictions Based on KNN Algorithm"
   ]
  },
  {
   "cell_type": "code",
   "execution_count": null,
   "metadata": {},
   "outputs": [],
   "source": [
    "library(tidyverse)\n",
    "library(repr)\n",
    "library(dplyr)\n",
    "library(tidymodels)\n",
    "install.packages(\"generics\")\n",
    "install.packages(\"themis\")\n",
    "require(themis)\n",
    "library(ggplot2)\n",
    "\n",
    "set.seed(1768)\n",
    "options(repr.matrix.max.rows = 6)\n",
    "options(repr.plot.width = 8, repr.plot.width= 10)"
   ]
  },
  {
   "cell_type": "markdown",
   "metadata": {},
   "source": [
    "## Introduction"
   ]
  },
  {
   "cell_type": "markdown",
   "metadata": {},
   "source": [
    "According to the World Health Organization (WHO), strokes are the second leading cause of death globally responsible for approximately 11% of total deaths. A stroke occurs when a blood vessel carrying oxygen and nutrients to the brain is either blocked by clots or bursts due to ruptures. This results in a lack of blood and oxygen flow to the brain and causes brain cells to die.\n",
    "\n",
    "Given a patient data collection of parameters and measurements, can we predict whether a patient previously had a stroke? At large, the factors of interest are categorized as reported modifiable risk factors, unlike sex, age and ethnicity which are classified as unmodifiable, and are ultimately hereditary. Modifiable risk factors are usually environmental influences that might raise the risk for stroke in certain people. These modifiable risk factors will make up our predictors of interest.\n",
    "\n",
    "By basing our predictive analytical model from a classification model, we can categorize information based on historical data in the case of stroke instances and factors. The purpose of this research analysis is to model a classifier that can be easily retrained with new data and provide a broad analysis for future prediction models. The application of the classification predictive model will aim to determine the best subsets of stroke attribute parameters in order to categorize previous stroke instances and their occurrences (stroke or no stroke). Using KNN (K-nearest neighbor) algorithm, it will map predictions of previous stroke instances based on our given attribute parameters. Furth more, the accuracy of the model predicative classifier model will be confirmed using a confusion matrix. \n",
    "\n",
    "The objective of classifying a predictive model using patient parameters to categorize previous stroke instances provides the purpose of identifying and confirming valuable measurements in documenting stroke instances. The investigation of potential parameters can be used to conduct further research in identifying stronger relationships in potentially predicting future stroke instances or providing improved medical attention.\n",
    "\n",
    "The dataset obtained is used to predict whether a patient is likely to have had a stroke based on input parameters such as gender, age, various diseases, and smoking status. Each row in the data provides relevant information about the patient. In total, there are 5110 observations with respect to 12 attribute parameters."
   ]
  },
  {
   "cell_type": "markdown",
   "metadata": {},
   "source": [
    "Dataset Attribute Information\n",
    "- 1) id: unique identifier\n",
    "- 2) gender: \"Male\", \"Female\" or \"Other\"\n",
    "- 3) age: age of the patient\n",
    "- 4) hypertension: 0 if the patient doesn't have hypertension, 1 if the patient has hypertension\n",
    "- 5) heart_disease: 0 if the patient doesn't have any heart diseases, 1 if the patient has a heart disease\n",
    "- 6) ever_married: \"No\" or \"Yes\"\n",
    "- 7) work_type: \"children\", \"Govt_jov\", \"Never_worked\", \"Private\" or \"Self-employed\"\n",
    "- 8) Residence_type: \"Rural\" or \"Urban\"\n",
    "- 9) avg_glucose_level: average glucose level in blood\n",
    "- 10) bmi: body mass index\n",
    "- 11) smoking_status: \"formerly smoked\", \"never smoked\", \"smokes\" or \"Unknown\"*\n",
    "- 12) stroke: 1 if the patient had a stroke or 0 if not\n",
    "*Note: \"Unknown\" in smoking_status means that the information is unavailable for this patient"
   ]
  },
  {
   "cell_type": "markdown",
   "metadata": {},
   "source": [
    "## Methods and Results"
   ]
  },
  {
   "cell_type": "markdown",
   "metadata": {},
   "source": [
    "We will be conducting data analysis via classification on stroke using predictors of interest. We will model our analysis using predictors based on exploratory data anlysis and research articles to support our choice of predictors. Furthermore, we will be using forward selection (Eforymson 1966; Draper and Smith 1966) in order to obtain insight on finding the best subset of predictors. \n",
    "\n",
    "Accuracy will be evaluated via data splits of training and testing sets and resultingly evaluating the accuracy of the classifier. This will be done with randomness via seeds to model reproducibility along with analysis via cross-validation, K-nearest neighbor algorithm parameter selections, retraining, and model evaluation. The model will be graphed using a scatter plot to measure the accuracy of the predictions and classifier along with a confusion matrix.\n",
    "\n",
    "Furthurmore, the class imbalances seen in the stroke dataset may cause poor performance in K-nearest neighbours classification. The dataset contains more cases of no strokes than cases of strokes and will cause problems in the K-nearest neighbor classification algorithm due to imbalances. Despite the knowledge required to correct for these imalances, we will still attempt to correct these imbalances by upsampling our classes for classification. This will lead to a fundamental issue that leads to overfitting of the model as it increase the number of cases in each class to match the most prevalent class which would be the case of no strokes. For this reason, cross-validation will not work as desired with upsampling and should be noted for future experimental research and analysis.\n",
    "\n",
    "Hypertension is the most important modifiable risk factor for stroke, with a strong and continuous relationship between blood pressure and stroke risk (Hägg-Holmberg et al., 2019). Even among those who are not necessarily hypertensive, the higher the blood pressure, the higher the risk of stroke. Blood pressure (regardless of hypertension), rises with increasing age, thereby increasing the lifetime risk of developing this condition. Hence, hypertension (modifiable) is heavily correlated with age (unmodifiable).\n",
    "\n",
    "Body weight and obesity are risk factors for stroke. Obesity is related to stroke risk factors such as hypertension and diabetes. Recent data found that 76% of the effect of BMI on stroke risk was mediated by blood pressure, cholesterol, and glucose levels (Boehme et al., 2017). Blood pressure solely accounted for 65% of the risk because of weight.\n",
    "\n",
    "Stroke risk was nearly doubled in patients with impaired glucose tolerance (range from 140.4-198 mg/dL) compared with those with normal glucose levels (80 mg/dL- 126mg/dL), and nearly tripled in diabetic patients (glucose≥ 198 mg/dL) (Boehme et al., 2017). Patients with low glucose levels (<80mg/dL) had a 50% increased stroke risk compared with those with normal glucose levels.\n",
    "\n",
    "Smoking remains a major risk factor for stroke, nearly doubling the risk and contributing to 15% of all stroke deaths per year (Boehme et al., 2017). Smoking cessation rapidly reduces the risk of stroke, with added risk nearly disappearing 2 to 4 years after smoking cessation.\n",
    "\n",
    "From the supplementary research articles, we will be utaliizing the modifiable risk factors as predictors for determining whether a patient preiviously had a stroke instance.\n"
   ]
  },
  {
   "cell_type": "code",
   "execution_count": null,
   "metadata": {},
   "outputs": [],
   "source": [
    "# Load stroke dataset\n",
    "raw_data_url <- \"https://raw.githubusercontent.com/jordanjzhao/dsci-project-proposal/main/data/healthcare-dataset-stroke-data.csv\"\n",
    "\n",
    "# Foward Selection\n",
    "\n",
    "# Looking at predictors -> age, gender, hypertension, glucose levels, bmi\n",
    "stroke_data_fs <- read.csv(raw_data_url, na.strings = \"N/A\") %>%\n",
    "    mutate(stroke = as_factor(stroke))\n",
    "\n",
    "stroke_data_clean_fs <- na.omit(stroke_data_fs)\n",
    "\n",
    "# Select data -> Foward Selection\n",
    "stroke_data_select_fs <- stroke_data_clean_fs %>%\n",
    "    select(stroke, bmi, avg_glucose_level, hypertension, age, heart_disease)\n",
    "\n",
    "names <- colnames(stroke_data_select_fs %>% select(-stroke))\n",
    "\n",
    "# Create training and testing set -> Foward Selection\n",
    "stroke_split_fs <- initial_split(stroke_data_select_fs, prop = 0.75, strata = stroke)\n",
    "stroke_train_fs <- training(stroke_split_fs)\n",
    "stroke_test_fs <- testing(stroke_split_fs)\n",
    "\n",
    "# Foward Selection in R\n",
    "# Formula\n",
    "fs_formula <- paste(\"stroke\", \"~\", paste(names, collapse=\"+\"))\n",
    "\n",
    "# Code\n",
    "fs_accuracies <- tibble(size = integer(),\n",
    "                        model_string = character(),\n",
    "                       accuracy = numeric())\n",
    "\n",
    "knn_spec_fs <- nearest_neighbor(weight_func = \"rectangular\", neighbors = tune()) %>%\n",
    "    set_engine(\"kknn\") %>%\n",
    "    set_mode(\"classification\")\n",
    "\n",
    "fs_vfold <- vfold_cv(stroke_data_select_fs, v = 5, strate = stroke) \n",
    "\n",
    "n_total <- length(names) \n",
    "\n",
    "selected <- c()\n",
    "\n",
    "for (i in 1:n_total) {\n",
    "    accs <- list()\n",
    "    models <- list()\n",
    "    for (j in 1:length(names)) {\n",
    "        preds_new <- c(selected, names[[j]])\n",
    "        model_string <- paste(\"stroke\", \"~\", paste(preds_new, collapse=\"+\"))\n",
    "        \n",
    "        fs_recipe <- recipe(as.formula(model_string), data = stroke_data_select_fs) %>%\n",
    "                            step_scale(all_predictors()) %>%\n",
    "                            step_center(all_predictors()) %>%\n",
    "                            themis::step_upsample(stroke, over_ratio = 1, skip = FALSE) %>%\n",
    "                            prep() %>%\n",
    "                            bake(stroke_train_fs)\n",
    "\n",
    "        fs_dummy_recipe <- recipe(stroke ~., data = fs_recipe)\n",
    "        \n",
    "        acc <- workflow() %>%\n",
    "            add_recipe(fs_dummy_recipe) %>%\n",
    "            add_model(knn_spec_fs) %>%\n",
    "            tune_grid(resamples = fs_vfold, grid = 10) %>%\n",
    "            collect_metrics() %>%\n",
    "            filter(.metric == \"accuracy\") %>%\n",
    "            summarize(mx = max(mean))\n",
    "        acc <- acc$mx %>%\n",
    "            unlist()\n",
    "        \n",
    "        accs[[j]] <- acc\n",
    "        models[[j]] <- model_string\n",
    "    }\n",
    "    jstar <- which.max(unlist(accs))\n",
    "    fs_accuracies <- fs_accuracies %>%\n",
    "        add_row(size = i,\n",
    "                model_string = models[[jstar]],\n",
    "                accuracy = accs[[jstar]])\n",
    "    selected <- c(selected, names[[jstar]])\n",
    "    names <- names[-jstar]\n",
    "}"
   ]
  },
  {
   "cell_type": "markdown",
   "metadata": {},
   "source": [
    "Table 1. Stroke data set Preview"
   ]
  },
  {
   "cell_type": "code",
   "execution_count": null,
   "metadata": {},
   "outputs": [],
   "source": [
    "head(stroke_data_clean_fs)"
   ]
  },
  {
   "cell_type": "markdown",
   "metadata": {},
   "source": [
    "Table 2. Forward Selection Procedure on Stroke Prediction Dataset"
   ]
  },
  {
   "cell_type": "code",
   "execution_count": null,
   "metadata": {},
   "outputs": [],
   "source": [
    "fs_accuracies"
   ]
  },
  {
   "cell_type": "code",
   "execution_count": null,
   "metadata": {},
   "outputs": [],
   "source": [
    "raw_data_url <- \"https://raw.githubusercontent.com/jordanjzhao/dsci-project-proposal/main/data/healthcare-dataset-stroke-data.csv\"\n",
    "stroke_data <- read.csv(raw_data_url, na.strings = \"N/A\") %>%\n",
    "    mutate(stroke = as_factor(stroke))\n",
    "\n",
    "# Reload and wrangle data for Cross Validation\n",
    "stroke_data_clean <- na.omit(stroke_data)\n",
    "\n",
    "# Select data\n",
    "stroke_data_select <- stroke_data_clean %>%\n",
    "    select(stroke, bmi, avg_glucose_level)\n",
    "\n",
    "# Create training and testing set\n",
    "stroke_split <- initial_split(stroke_data_select, prop = 0.75, strata = stroke)\n",
    "stroke_train <- training(stroke_split)\n",
    "stroke_test <- testing(stroke_split)\n",
    "\n",
    "# Cross Validation to choose best k set-up\n",
    "stroke_recipe <- recipe(stroke ~ ., data = stroke_train) %>%\n",
    "    step_scale(all_predictors()) %>%\n",
    "    step_center(all_predictors()) %>%\n",
    "    themis::step_upsample(stroke, over_ratio = 1, skip = FALSE) %>%\n",
    "    prep() %>%\n",
    "    bake(stroke_train)\n",
    "\n",
    "# Plot of training set dataset sample (scaled/balanced)\n",
    "sb_bmi_avg_gluc_plot <- stroke_recipe %>%\n",
    "    ggplot(aes(x = bmi, y = avg_glucose_level, color = stroke)) +\n",
    "    geom_point(alpha = 0.6) +\n",
    "    ggtitle(\"Body Mass Index Vs. Average Glucose Levels on Previous Stroke\") +\n",
    "    labs(x = \"Body Mass Index (kg/m^2)\", y = \"Average Glucose Level (mg/dL)\", color = \"Previous Stroke Indication\") +\n",
    "    scale_color_manual(labels = c(0, 1),\n",
    "                       values = c(\"steelblue2\", \"orange2\")) +\n",
    "    theme(text = element_text(size = 12))\n",
    "\n",
    "# Balanced predictors confirmation\n",
    "upsampled_stroke <- stroke_recipe %>%\n",
    "    group_by(stroke) %>%\n",
    "    summarize(n = n())\n",
    "\n",
    "# Dummy recipe data workaround for cross validation\n",
    "dummy_recipe <- recipe(stroke ~., data = stroke_recipe)\n",
    "\n",
    "# 5-fold cross-valiation on training set\n",
    "stroke_vfold <- vfold_cv(stroke_train, v = 5, strata = stroke)\n",
    "\n",
    "# KNN classifier\n",
    "knn_tune <- nearest_neighbor(weight_func = \"rectangular\", neighbors = tune()) %>%\n",
    "    set_engine(\"kknn\") %>%\n",
    "    set_mode(\"classification\")\n",
    "\n",
    "# kvals to process\n",
    "k_vals <- tibble(neighbors = seq(from = 1, to = 100, by = 5))\n",
    "\n",
    "# Create workflow analysis with recipe and model specs \n",
    "stroke_knn_results <- workflow() %>%\n",
    "    add_recipe(dummy_recipe) %>%\n",
    "    add_model(knn_tune) %>%\n",
    "    tune_grid(resamples = stroke_vfold, grid = k_vals) %>%\n",
    "    collect_metrics()\n",
    "\n",
    "# filter metrics for accuracy estimate\n",
    "stroke_knn_accuracies <- stroke_knn_results %>%\n",
    "    filter(.metric == \"accuracy\")\n",
    "\n",
    "# plot k vs accuracy estimate for k selection\n",
    "cross_val_plot <- stroke_knn_accuracies %>%\n",
    "    ggplot(aes(x = neighbors, y = mean)) +\n",
    "    geom_point() +\n",
    "    geom_line() +\n",
    "    labs(x = \"Neighbors\", y = \"Accuracy Estimate\") +\n",
    "    theme(text = element_text(size = 12))\n",
    "\n",
    "# Rebuild model with best chosen K\n",
    "\n",
    "# Using best chosen k = 11\n",
    "best_spec <- nearest_neighbor(weight_func = \"rectangular\", neighbors = 11) %>%\n",
    "    set_engine(\"kknn\") %>%\n",
    "    set_mode(\"classification\")\n",
    "\n",
    "best_fit <- workflow() %>%\n",
    "    add_recipe(dummy_recipe) %>%\n",
    "    add_model(best_spec) %>%\n",
    "    fit(data = stroke_train) \n",
    "\n",
    "# Use Final Model to Predict on Test Dataset\n",
    "stroke_predictions <- predict(best_fit, stroke_test) %>%\n",
    "    bind_cols(stroke_test)\n",
    "\n",
    "stroke_metrics <- stroke_predictions %>%\n",
    "    metrics(truth = stroke, estimate = .pred_class)\n",
    "\n",
    "# Create Confusion Matrix to check \n",
    "stroke_conf_mat <- stroke_predictions %>%\n",
    "    conf_mat(truth = stroke, estimate = .pred_class)"
   ]
  },
  {
   "cell_type": "markdown",
   "metadata": {},
   "source": [
    "Table 3. Wrangled Data for Cross Validation"
   ]
  },
  {
   "cell_type": "code",
   "execution_count": null,
   "metadata": {},
   "outputs": [],
   "source": [
    "head(stroke_data_clean)"
   ]
  },
  {
   "cell_type": "markdown",
   "metadata": {},
   "source": [
    "Table 4. Training and Testing Sets"
   ]
  },
  {
   "cell_type": "code",
   "execution_count": null,
   "metadata": {},
   "outputs": [],
   "source": [
    "glimpse(stroke_train)"
   ]
  },
  {
   "cell_type": "code",
   "execution_count": null,
   "metadata": {},
   "outputs": [],
   "source": [
    "glimpse(stroke_test)"
   ]
  },
  {
   "cell_type": "markdown",
   "metadata": {},
   "source": [
    "Table 5. Cross Validation Recipe"
   ]
  },
  {
   "cell_type": "code",
   "execution_count": null,
   "metadata": {},
   "outputs": [],
   "source": [
    "stroke_recipe"
   ]
  },
  {
   "cell_type": "code",
   "execution_count": null,
   "metadata": {},
   "outputs": [],
   "source": [
    "dummy_recipe"
   ]
  },
  {
   "cell_type": "code",
   "execution_count": null,
   "metadata": {},
   "outputs": [],
   "source": [
    "sb_bmi_avg_gluc_plot"
   ]
  },
  {
   "cell_type": "markdown",
   "metadata": {},
   "source": [
    "Figure 1. Scaled and balanced plot of Body Mass Index Vs. Average Glucose Levels sample set to predict previous strokes"
   ]
  },
  {
   "cell_type": "code",
   "execution_count": null,
   "metadata": {},
   "outputs": [],
   "source": [
    "cross_val_plot"
   ]
  },
  {
   "cell_type": "markdown",
   "metadata": {},
   "source": [
    "Figure 2. Cross Validation K Vs Accuracy Estimate for best K (Choosing K = 11)"
   ]
  },
  {
   "cell_type": "code",
   "execution_count": null,
   "metadata": {},
   "outputs": [],
   "source": [
    "best_spec"
   ]
  },
  {
   "cell_type": "code",
   "execution_count": null,
   "metadata": {},
   "outputs": [],
   "source": [
    "best_fit"
   ]
  },
  {
   "cell_type": "markdown",
   "metadata": {},
   "source": [
    "Table 6. Final Model Prediction on Stroke Testing Dataset Accuracy Score"
   ]
  },
  {
   "cell_type": "code",
   "execution_count": null,
   "metadata": {},
   "outputs": [],
   "source": [
    "stroke_metrics"
   ]
  },
  {
   "cell_type": "markdown",
   "metadata": {},
   "source": [
    "Table 7. Confusion Matrix Classifier Predictions Vs Truth Label"
   ]
  },
  {
   "cell_type": "code",
   "execution_count": null,
   "metadata": {},
   "outputs": [],
   "source": [
    "stroke_conf_mat"
   ]
  },
  {
   "cell_type": "code",
   "execution_count": null,
   "metadata": {},
   "outputs": [],
   "source": [
    "TClass <- factor(c(\"No Stroke\", \"No Stroke\", \"Stroke\", \"Stroke\"))\n",
    "PClass <- factor(c(\"No Stroke\", \"Stroke\", \"No Stroke\", \"Stroke\"))\n",
    "Y      <- c(1171, 0, 56, 0)\n",
    "df <- data.frame(TClass, PClass, Y)\n",
    "\n",
    "library(ggplot2)\n",
    "ggplot(data =  df, mapping = aes(x = TClass, y = PClass)) +\n",
    "    ggtitle(\"Truth vs. Prediction Model of Confusion Matrix for KNN Classifier\") +\n",
    "    labs(x = \"Truth\", y = \"Prediction\") +\n",
    "    geom_tile(aes(fill = Y), colour = \"white\") +\n",
    "    geom_text(aes(label = sprintf(\"%1.0f\", Y)), vjust = 1) +\n",
    "    scale_fill_gradient(low = \"blue\", high = \"red\") +\n",
    "    theme_bw() + theme(legend.position = \"none\") + \n",
    "    theme(text = element_text(size = 12))"
   ]
  },
  {
   "cell_type": "markdown",
   "metadata": {},
   "source": [
    "Figure 3. Confusion Matrix Model for KNN Classifer using mosaic plot"
   ]
  },
  {
   "cell_type": "markdown",
   "metadata": {},
   "source": [
    "## Discussion"
   ]
  },
  {
   "cell_type": "markdown",
   "metadata": {},
   "source": [
    "From the methods and resuts analyzed, the prediction of patients previous strokes using K-nearest neighbors classification was not a strong predictor due to various issues.\n",
    "\n",
    "Table 2. illustrates the potential selection of a good subset of predictors using the method of forward selection. We see the highest accuracy estimate with predictors bmi and heart disease at a score 0.9578318. The lowest accuracy estimate with predictors bmi, heart disease, hypertension, age, and average glucose level appears at a score of 0.9570171. This model predictor provides only an estimate of the true accuracy, however, the dataset does not indicate the types of heart diseases as such, the use of average glucose levels has been integrated instead.\n",
    "\n",
    "From Table 6., we can see that using a K-nearest neighbour classifcation tuned with the best K chosen at k = 11, the accuracy score was estimated to be at a value of 0.9453953. This is a very high estimation accuracy for the classifier, however, due to the upsampling used along with cross validation, the classification is more likely to over fit the points in classification to the majority.\n",
    "         \n",
    "From Table 7., the confusion matrix shows 1160 observations correctly predicted as cases of no strokes and no correct predictions of stroke cases. However the classifier did make mistakes, it predicted 67 cases of no strokes when they were truly stroke cases. In the cases of predicting strokes, it is not beneficial to have the classifier predict false negatives, as this can result in patients not receiving the appropriate medical attention required. Due to the majority seen in cases of no strokes, it must be the case that the accuracy must be further improved for better predictions of previous strokes.\n",
    "\n",
    "The analysis models very similar to our predictions previously made such that we were certain there would be a positive relationship between the attribute parameters as predictors for previous stroke. This was seen in the case of the forward selection model. However, as mentioned previously there was a lack of certainty in classifying previous strokes due to the heavy upsampling required.\n",
    "\n",
    "The impacts of these findings can further provide added certainty to the use of these attribute paramters of bmi, glucose levels, and hypertension to predict stroke. However, further research must be done to cross check accuracy estimates with respect to proper balancing of the stroke dataset.\n",
    "\n",
    "In the cases proper balanced is implemented, there can be further predictions using further parameters to solidfy the prediction of previous strokes on patients. As a result, future research could be dedicated to determining if predictions of future stroke instances and concerns to alert patients for medical attention could be possible."
   ]
  },
  {
   "cell_type": "markdown",
   "metadata": {},
   "source": [
    "## Works Cited\n",
    "\n",
    "Boehme, Amelia K., et al. “Stroke Risk Factors, Genetics, and Prevention.” Circulation Research, 3 Feb. 2017, https://www.ahajournals.org/doi/full/10.1161/CIRCRESAHA.116.308398. \n",
    "\n",
    "Draper, Norman, and Harry Smith. Applied Regression Analysis. Wiley. 1966.\n",
    "\n",
    "Eforymson, M. “Stepwise Regression—a Backward and Forward Look.” In Eastern Regional Meetings of the Institute of Mathematical Statistics. 1966.\n",
    "\n",
    "Hägg-Holmberg, Stefanie, et al. “The Role of Blood Pressure in Risk of Ischemic and Hemorrhagic Stroke in Type 1 Diabetes - Cardiovascular Diabetology.” BioMed Central, BioMed Central, 9 July 2019, https://cardiab.biomedcentral.com/articles/10.1186/s12933-019-0891-4. \n",
    "\n",
    "Timbers, Tiffany-Anne, et al. Data Science: An Introduction. CRC Press, 2022. \n",
    "\n",
    "Dataset source: https://www.kaggle.com/fedesoriano/stroke-prediction-dataset\n",
    "Author credentials: fedesoriano"
   ]
  },
  {
   "cell_type": "code",
   "execution_count": null,
   "metadata": {},
   "outputs": [],
   "source": []
  }
 ],
 "metadata": {
  "kernelspec": {
   "display_name": "R",
   "language": "R",
   "name": "ir"
  },
  "language_info": {
   "codemirror_mode": "r",
   "file_extension": ".r",
   "mimetype": "text/x-r-source",
   "name": "R",
   "pygments_lexer": "r",
   "version": "4.0.0"
  }
 },
 "nbformat": 4,
 "nbformat_minor": 4
}
